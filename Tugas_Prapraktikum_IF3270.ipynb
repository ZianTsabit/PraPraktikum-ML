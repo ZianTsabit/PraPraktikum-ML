{
 "cells": [
  {
   "attachments": {},
   "cell_type": "markdown",
   "metadata": {
    "id": "bdq8ydSd4xUy"
   },
   "source": [
    "# Tugas Prapraktikum\n",
    "\n",
    "Tugas Prapraktikum dikerjakan dengan _dataset_ [Rain in Australia](https://www.kaggle.com/datasets/jsphyg/weather-dataset-rattle-package/download?datasetVersionNumber=2). Tanpa meninjau waktu (`date`), prediksi status hujan pada keesokan harinya (`RainTomorrow`). Berikan nilai `1` jika diprediksi hujan pada keesokan harinya, `0` jika tidak.\n",
    "\n",
    "<br>\n",
    "Oleh :\n",
    "<br>\n",
    "1. 13520135 - Muhammad Alif Putra Yasa\n",
    "<br>\n",
    "2. 13520165 - Ghazian Tsabit Alkamil"
   ]
  },
  {
   "attachments": {},
   "cell_type": "markdown",
   "metadata": {
    "id": "XAHqneEY7b7b"
   },
   "source": [
    "# 0. Persiapan Data and Pustaka"
   ]
  },
  {
   "cell_type": "code",
   "execution_count": 25,
   "metadata": {
    "id": "zsBbpcIi7fHi"
   },
   "outputs": [],
   "source": [
    "# Letakkan pustaka di sini.\n",
    "import numpy as np\n",
    "import pandas as pd\n",
    "import scipy.stats as zscore"
   ]
  },
  {
   "cell_type": "code",
   "execution_count": 26,
   "metadata": {
    "id": "OWLkjeKo7gdD"
   },
   "outputs": [
    {
     "data": {
      "text/html": [
       "<div>\n",
       "<style scoped>\n",
       "    .dataframe tbody tr th:only-of-type {\n",
       "        vertical-align: middle;\n",
       "    }\n",
       "\n",
       "    .dataframe tbody tr th {\n",
       "        vertical-align: top;\n",
       "    }\n",
       "\n",
       "    .dataframe thead th {\n",
       "        text-align: right;\n",
       "    }\n",
       "</style>\n",
       "<table border=\"1\" class=\"dataframe\">\n",
       "  <thead>\n",
       "    <tr style=\"text-align: right;\">\n",
       "      <th></th>\n",
       "      <th>Date</th>\n",
       "      <th>Location</th>\n",
       "      <th>MinTemp</th>\n",
       "      <th>MaxTemp</th>\n",
       "      <th>Rainfall</th>\n",
       "      <th>Evaporation</th>\n",
       "      <th>Sunshine</th>\n",
       "      <th>WindGustDir</th>\n",
       "      <th>WindGustSpeed</th>\n",
       "      <th>WindDir9am</th>\n",
       "      <th>...</th>\n",
       "      <th>Humidity9am</th>\n",
       "      <th>Humidity3pm</th>\n",
       "      <th>Pressure9am</th>\n",
       "      <th>Pressure3pm</th>\n",
       "      <th>Cloud9am</th>\n",
       "      <th>Cloud3pm</th>\n",
       "      <th>Temp9am</th>\n",
       "      <th>Temp3pm</th>\n",
       "      <th>RainToday</th>\n",
       "      <th>RainTomorrow</th>\n",
       "    </tr>\n",
       "  </thead>\n",
       "  <tbody>\n",
       "    <tr>\n",
       "      <th>0</th>\n",
       "      <td>2008-12-01</td>\n",
       "      <td>Albury</td>\n",
       "      <td>13.4</td>\n",
       "      <td>22.9</td>\n",
       "      <td>0.6</td>\n",
       "      <td>NaN</td>\n",
       "      <td>NaN</td>\n",
       "      <td>W</td>\n",
       "      <td>44.0</td>\n",
       "      <td>W</td>\n",
       "      <td>...</td>\n",
       "      <td>71.0</td>\n",
       "      <td>22.0</td>\n",
       "      <td>1007.7</td>\n",
       "      <td>1007.1</td>\n",
       "      <td>8.0</td>\n",
       "      <td>NaN</td>\n",
       "      <td>16.9</td>\n",
       "      <td>21.8</td>\n",
       "      <td>No</td>\n",
       "      <td>No</td>\n",
       "    </tr>\n",
       "    <tr>\n",
       "      <th>1</th>\n",
       "      <td>2008-12-02</td>\n",
       "      <td>Albury</td>\n",
       "      <td>7.4</td>\n",
       "      <td>25.1</td>\n",
       "      <td>0.0</td>\n",
       "      <td>NaN</td>\n",
       "      <td>NaN</td>\n",
       "      <td>WNW</td>\n",
       "      <td>44.0</td>\n",
       "      <td>NNW</td>\n",
       "      <td>...</td>\n",
       "      <td>44.0</td>\n",
       "      <td>25.0</td>\n",
       "      <td>1010.6</td>\n",
       "      <td>1007.8</td>\n",
       "      <td>NaN</td>\n",
       "      <td>NaN</td>\n",
       "      <td>17.2</td>\n",
       "      <td>24.3</td>\n",
       "      <td>No</td>\n",
       "      <td>No</td>\n",
       "    </tr>\n",
       "    <tr>\n",
       "      <th>2</th>\n",
       "      <td>2008-12-03</td>\n",
       "      <td>Albury</td>\n",
       "      <td>12.9</td>\n",
       "      <td>25.7</td>\n",
       "      <td>0.0</td>\n",
       "      <td>NaN</td>\n",
       "      <td>NaN</td>\n",
       "      <td>WSW</td>\n",
       "      <td>46.0</td>\n",
       "      <td>W</td>\n",
       "      <td>...</td>\n",
       "      <td>38.0</td>\n",
       "      <td>30.0</td>\n",
       "      <td>1007.6</td>\n",
       "      <td>1008.7</td>\n",
       "      <td>NaN</td>\n",
       "      <td>2.0</td>\n",
       "      <td>21.0</td>\n",
       "      <td>23.2</td>\n",
       "      <td>No</td>\n",
       "      <td>No</td>\n",
       "    </tr>\n",
       "    <tr>\n",
       "      <th>3</th>\n",
       "      <td>2008-12-04</td>\n",
       "      <td>Albury</td>\n",
       "      <td>9.2</td>\n",
       "      <td>28.0</td>\n",
       "      <td>0.0</td>\n",
       "      <td>NaN</td>\n",
       "      <td>NaN</td>\n",
       "      <td>NE</td>\n",
       "      <td>24.0</td>\n",
       "      <td>SE</td>\n",
       "      <td>...</td>\n",
       "      <td>45.0</td>\n",
       "      <td>16.0</td>\n",
       "      <td>1017.6</td>\n",
       "      <td>1012.8</td>\n",
       "      <td>NaN</td>\n",
       "      <td>NaN</td>\n",
       "      <td>18.1</td>\n",
       "      <td>26.5</td>\n",
       "      <td>No</td>\n",
       "      <td>No</td>\n",
       "    </tr>\n",
       "    <tr>\n",
       "      <th>4</th>\n",
       "      <td>2008-12-05</td>\n",
       "      <td>Albury</td>\n",
       "      <td>17.5</td>\n",
       "      <td>32.3</td>\n",
       "      <td>1.0</td>\n",
       "      <td>NaN</td>\n",
       "      <td>NaN</td>\n",
       "      <td>W</td>\n",
       "      <td>41.0</td>\n",
       "      <td>ENE</td>\n",
       "      <td>...</td>\n",
       "      <td>82.0</td>\n",
       "      <td>33.0</td>\n",
       "      <td>1010.8</td>\n",
       "      <td>1006.0</td>\n",
       "      <td>7.0</td>\n",
       "      <td>8.0</td>\n",
       "      <td>17.8</td>\n",
       "      <td>29.7</td>\n",
       "      <td>No</td>\n",
       "      <td>No</td>\n",
       "    </tr>\n",
       "  </tbody>\n",
       "</table>\n",
       "<p>5 rows × 23 columns</p>\n",
       "</div>"
      ],
      "text/plain": [
       "         Date Location  MinTemp  MaxTemp  Rainfall  Evaporation  Sunshine  \\\n",
       "0  2008-12-01   Albury     13.4     22.9       0.6          NaN       NaN   \n",
       "1  2008-12-02   Albury      7.4     25.1       0.0          NaN       NaN   \n",
       "2  2008-12-03   Albury     12.9     25.7       0.0          NaN       NaN   \n",
       "3  2008-12-04   Albury      9.2     28.0       0.0          NaN       NaN   \n",
       "4  2008-12-05   Albury     17.5     32.3       1.0          NaN       NaN   \n",
       "\n",
       "  WindGustDir  WindGustSpeed WindDir9am  ... Humidity9am  Humidity3pm  \\\n",
       "0           W           44.0          W  ...        71.0         22.0   \n",
       "1         WNW           44.0        NNW  ...        44.0         25.0   \n",
       "2         WSW           46.0          W  ...        38.0         30.0   \n",
       "3          NE           24.0         SE  ...        45.0         16.0   \n",
       "4           W           41.0        ENE  ...        82.0         33.0   \n",
       "\n",
       "   Pressure9am  Pressure3pm  Cloud9am  Cloud3pm  Temp9am  Temp3pm  RainToday  \\\n",
       "0       1007.7       1007.1       8.0       NaN     16.9     21.8         No   \n",
       "1       1010.6       1007.8       NaN       NaN     17.2     24.3         No   \n",
       "2       1007.6       1008.7       NaN       2.0     21.0     23.2         No   \n",
       "3       1017.6       1012.8       NaN       NaN     18.1     26.5         No   \n",
       "4       1010.8       1006.0       7.0       8.0     17.8     29.7         No   \n",
       "\n",
       "   RainTomorrow  \n",
       "0            No  \n",
       "1            No  \n",
       "2            No  \n",
       "3            No  \n",
       "4            No  \n",
       "\n",
       "[5 rows x 23 columns]"
      ]
     },
     "execution_count": 26,
     "metadata": {},
     "output_type": "execute_result"
    }
   ],
   "source": [
    "# Baca data di sini.\n",
    "\n",
    "# Baca data dari file csv\n",
    "df = pd.read_csv(\"weatherAUS.csv\")\n",
    "df.head()"
   ]
  },
  {
   "attachments": {},
   "cell_type": "markdown",
   "metadata": {
    "id": "JYGzyrantR1r"
   },
   "source": [
    "# I. Pemahaman Data\n",
    "Tujuan dari bagian ini adalah peserta dapat memahami kualitas dari data yang diberikan. Hal yang diliputi adalah sebagai berikut:\n",
    "1. Ukuran data\n",
    "2. Statistik dari tiap fitur\n",
    "3. Pencilan (_outlier_)\n",
    "4. Korelasi\n",
    "5. Distribusi "
   ]
  },
  {
   "attachments": {},
   "cell_type": "markdown",
   "metadata": {
    "id": "8SMf9-ikuoCe"
   },
   "source": [
    "## I.1 \n",
    "Carilah:\n",
    "1. Ukuran dari data (instansi dan fitur)\n",
    "2. Tipe dari setiap fitur \n",
    "3. Banyak nilai unik dari fitur yang bertipe kategorikal\n",
    "4. Nilai minimum, maksimum, rata-rata, median, dan standar deviasi dari fitur nonkategorikal"
   ]
  },
  {
   "cell_type": "code",
   "execution_count": 8,
   "metadata": {
    "id": "SAxrfZySuM3-"
   },
   "outputs": [],
   "source": [
    "# I.1 Kode di sini."
   ]
  },
  {
   "attachments": {},
   "cell_type": "markdown",
   "metadata": {
    "id": "VE1l_gOTwHuz"
   },
   "source": [
    "## I.2\n",
    "Carilah:\n",
    "1. Nilai hilang (_missing_) dari setiap fitur\n",
    "2. Nilai pencilan (_outlier_) dari setiap fitur"
   ]
  },
  {
   "cell_type": "code",
   "execution_count": 65,
   "metadata": {
    "id": "IGe-YWAvwQDr"
   },
   "outputs": [
    {
     "data": {
      "text/html": [
       "<div>\n",
       "<style scoped>\n",
       "    .dataframe tbody tr th:only-of-type {\n",
       "        vertical-align: middle;\n",
       "    }\n",
       "\n",
       "    .dataframe tbody tr th {\n",
       "        vertical-align: top;\n",
       "    }\n",
       "\n",
       "    .dataframe thead th {\n",
       "        text-align: right;\n",
       "    }\n",
       "</style>\n",
       "<table border=\"1\" class=\"dataframe\">\n",
       "  <thead>\n",
       "    <tr style=\"text-align: right;\">\n",
       "      <th></th>\n",
       "      <th>jumlah missing value</th>\n",
       "    </tr>\n",
       "  </thead>\n",
       "  <tbody>\n",
       "    <tr>\n",
       "      <th>Date</th>\n",
       "      <td>0</td>\n",
       "    </tr>\n",
       "    <tr>\n",
       "      <th>Location</th>\n",
       "      <td>0</td>\n",
       "    </tr>\n",
       "    <tr>\n",
       "      <th>MinTemp</th>\n",
       "      <td>1485</td>\n",
       "    </tr>\n",
       "    <tr>\n",
       "      <th>MaxTemp</th>\n",
       "      <td>1261</td>\n",
       "    </tr>\n",
       "    <tr>\n",
       "      <th>Rainfall</th>\n",
       "      <td>3261</td>\n",
       "    </tr>\n",
       "    <tr>\n",
       "      <th>Evaporation</th>\n",
       "      <td>62790</td>\n",
       "    </tr>\n",
       "    <tr>\n",
       "      <th>Sunshine</th>\n",
       "      <td>69835</td>\n",
       "    </tr>\n",
       "    <tr>\n",
       "      <th>WindGustDir</th>\n",
       "      <td>10326</td>\n",
       "    </tr>\n",
       "    <tr>\n",
       "      <th>WindGustSpeed</th>\n",
       "      <td>10263</td>\n",
       "    </tr>\n",
       "    <tr>\n",
       "      <th>WindDir9am</th>\n",
       "      <td>10566</td>\n",
       "    </tr>\n",
       "    <tr>\n",
       "      <th>WindDir3pm</th>\n",
       "      <td>4228</td>\n",
       "    </tr>\n",
       "    <tr>\n",
       "      <th>WindSpeed9am</th>\n",
       "      <td>1767</td>\n",
       "    </tr>\n",
       "    <tr>\n",
       "      <th>WindSpeed3pm</th>\n",
       "      <td>3062</td>\n",
       "    </tr>\n",
       "    <tr>\n",
       "      <th>Humidity9am</th>\n",
       "      <td>2654</td>\n",
       "    </tr>\n",
       "    <tr>\n",
       "      <th>Humidity3pm</th>\n",
       "      <td>4507</td>\n",
       "    </tr>\n",
       "    <tr>\n",
       "      <th>Pressure9am</th>\n",
       "      <td>15065</td>\n",
       "    </tr>\n",
       "    <tr>\n",
       "      <th>Pressure3pm</th>\n",
       "      <td>15028</td>\n",
       "    </tr>\n",
       "    <tr>\n",
       "      <th>Cloud9am</th>\n",
       "      <td>55888</td>\n",
       "    </tr>\n",
       "    <tr>\n",
       "      <th>Cloud3pm</th>\n",
       "      <td>59358</td>\n",
       "    </tr>\n",
       "    <tr>\n",
       "      <th>Temp9am</th>\n",
       "      <td>1767</td>\n",
       "    </tr>\n",
       "    <tr>\n",
       "      <th>Temp3pm</th>\n",
       "      <td>3609</td>\n",
       "    </tr>\n",
       "    <tr>\n",
       "      <th>RainToday</th>\n",
       "      <td>3261</td>\n",
       "    </tr>\n",
       "    <tr>\n",
       "      <th>RainTomorrow</th>\n",
       "      <td>3267</td>\n",
       "    </tr>\n",
       "  </tbody>\n",
       "</table>\n",
       "</div>"
      ],
      "text/plain": [
       "               jumlah missing value\n",
       "Date                              0\n",
       "Location                          0\n",
       "MinTemp                        1485\n",
       "MaxTemp                        1261\n",
       "Rainfall                       3261\n",
       "Evaporation                   62790\n",
       "Sunshine                      69835\n",
       "WindGustDir                   10326\n",
       "WindGustSpeed                 10263\n",
       "WindDir9am                    10566\n",
       "WindDir3pm                     4228\n",
       "WindSpeed9am                   1767\n",
       "WindSpeed3pm                   3062\n",
       "Humidity9am                    2654\n",
       "Humidity3pm                    4507\n",
       "Pressure9am                   15065\n",
       "Pressure3pm                   15028\n",
       "Cloud9am                      55888\n",
       "Cloud3pm                      59358\n",
       "Temp9am                        1767\n",
       "Temp3pm                        3609\n",
       "RainToday                      3261\n",
       "RainTomorrow                   3267"
      ]
     },
     "execution_count": 65,
     "metadata": {},
     "output_type": "execute_result"
    }
   ],
   "source": [
    "# I.2.1 Nilai hilang (missing) dari setiap fitur \n",
    "\n",
    "missing_value = df.isnull().sum()\n",
    "missing_value = missing_value.to_frame()\n",
    "missing_value.columns = ['jumlah missing value']\n",
    "missing_value"
   ]
  },
  {
   "cell_type": "code",
   "execution_count": 57,
   "metadata": {},
   "outputs": [
    {
     "data": {
      "text/html": [
       "<div>\n",
       "<style scoped>\n",
       "    .dataframe tbody tr th:only-of-type {\n",
       "        vertical-align: middle;\n",
       "    }\n",
       "\n",
       "    .dataframe tbody tr th {\n",
       "        vertical-align: top;\n",
       "    }\n",
       "\n",
       "    .dataframe thead th {\n",
       "        text-align: right;\n",
       "    }\n",
       "</style>\n",
       "<table border=\"1\" class=\"dataframe\">\n",
       "  <thead>\n",
       "    <tr style=\"text-align: right;\">\n",
       "      <th></th>\n",
       "      <th>Fitur</th>\n",
       "      <th>Jumlah nilai pencilan</th>\n",
       "      <th>Upper bound</th>\n",
       "      <th>Lower bound</th>\n",
       "      <th>Nilai pencilan</th>\n",
       "    </tr>\n",
       "  </thead>\n",
       "  <tbody>\n",
       "    <tr>\n",
       "      <th>0</th>\n",
       "      <td>MinTemp</td>\n",
       "      <td>54</td>\n",
       "      <td>30.85</td>\n",
       "      <td>-6.35</td>\n",
       "      <td>None</td>\n",
       "    </tr>\n",
       "    <tr>\n",
       "      <th>1</th>\n",
       "      <td>MaxTemp</td>\n",
       "      <td>489</td>\n",
       "      <td>43.65</td>\n",
       "      <td>2.45</td>\n",
       "      <td>None</td>\n",
       "    </tr>\n",
       "    <tr>\n",
       "      <th>2</th>\n",
       "      <td>Rainfall</td>\n",
       "      <td>25578</td>\n",
       "      <td>2.0</td>\n",
       "      <td>-1.2</td>\n",
       "      <td>None</td>\n",
       "    </tr>\n",
       "    <tr>\n",
       "      <th>3</th>\n",
       "      <td>Evaporation</td>\n",
       "      <td>1995</td>\n",
       "      <td>14.6</td>\n",
       "      <td>-4.6</td>\n",
       "      <td>None</td>\n",
       "    </tr>\n",
       "    <tr>\n",
       "      <th>4</th>\n",
       "      <td>Sunshine</td>\n",
       "      <td>0</td>\n",
       "      <td>19.3</td>\n",
       "      <td>-3.9</td>\n",
       "      <td>None</td>\n",
       "    </tr>\n",
       "    <tr>\n",
       "      <th>5</th>\n",
       "      <td>WindGustSpeed</td>\n",
       "      <td>3092</td>\n",
       "      <td>73.5</td>\n",
       "      <td>5.5</td>\n",
       "      <td>None</td>\n",
       "    </tr>\n",
       "    <tr>\n",
       "      <th>6</th>\n",
       "      <td>WindDir9am</td>\n",
       "      <td>1</td>\n",
       "      <td>None</td>\n",
       "      <td>2.5</td>\n",
       "      <td>N</td>\n",
       "    </tr>\n",
       "    <tr>\n",
       "      <th>7</th>\n",
       "      <td>WindSpeed9am</td>\n",
       "      <td>1817</td>\n",
       "      <td>37.0</td>\n",
       "      <td>-11.0</td>\n",
       "      <td>None</td>\n",
       "    </tr>\n",
       "    <tr>\n",
       "      <th>8</th>\n",
       "      <td>WindSpeed3pm</td>\n",
       "      <td>2523</td>\n",
       "      <td>40.5</td>\n",
       "      <td>-3.5</td>\n",
       "      <td>None</td>\n",
       "    </tr>\n",
       "    <tr>\n",
       "      <th>9</th>\n",
       "      <td>Humidity9am</td>\n",
       "      <td>1425</td>\n",
       "      <td>122.0</td>\n",
       "      <td>18.0</td>\n",
       "      <td>None</td>\n",
       "    </tr>\n",
       "    <tr>\n",
       "      <th>10</th>\n",
       "      <td>Humidity3pm</td>\n",
       "      <td>0</td>\n",
       "      <td>109.5</td>\n",
       "      <td>-6.5</td>\n",
       "      <td>None</td>\n",
       "    </tr>\n",
       "    <tr>\n",
       "      <th>11</th>\n",
       "      <td>Pressure9am</td>\n",
       "      <td>1191</td>\n",
       "      <td>1036.65</td>\n",
       "      <td>998.65</td>\n",
       "      <td>None</td>\n",
       "    </tr>\n",
       "    <tr>\n",
       "      <th>12</th>\n",
       "      <td>Pressure3pm</td>\n",
       "      <td>919</td>\n",
       "      <td>1034.4</td>\n",
       "      <td>996.0</td>\n",
       "      <td>None</td>\n",
       "    </tr>\n",
       "    <tr>\n",
       "      <th>13</th>\n",
       "      <td>Cloud9am</td>\n",
       "      <td>0</td>\n",
       "      <td>16.0</td>\n",
       "      <td>-8.0</td>\n",
       "      <td>None</td>\n",
       "    </tr>\n",
       "    <tr>\n",
       "      <th>14</th>\n",
       "      <td>Cloud3pm</td>\n",
       "      <td>0</td>\n",
       "      <td>14.5</td>\n",
       "      <td>-5.5</td>\n",
       "      <td>None</td>\n",
       "    </tr>\n",
       "    <tr>\n",
       "      <th>15</th>\n",
       "      <td>Temp9am</td>\n",
       "      <td>262</td>\n",
       "      <td>35.55</td>\n",
       "      <td>-1.65</td>\n",
       "      <td>None</td>\n",
       "    </tr>\n",
       "    <tr>\n",
       "      <th>16</th>\n",
       "      <td>Temp3pm</td>\n",
       "      <td>764</td>\n",
       "      <td>41.1</td>\n",
       "      <td>1.9</td>\n",
       "      <td>None</td>\n",
       "    </tr>\n",
       "  </tbody>\n",
       "</table>\n",
       "</div>"
      ],
      "text/plain": [
       "            Fitur Jumlah nilai pencilan Upper bound Lower bound Nilai pencilan\n",
       "0         MinTemp                    54       30.85       -6.35           None\n",
       "1         MaxTemp                   489       43.65        2.45           None\n",
       "2        Rainfall                 25578         2.0        -1.2           None\n",
       "3     Evaporation                  1995        14.6        -4.6           None\n",
       "4        Sunshine                     0        19.3        -3.9           None\n",
       "5   WindGustSpeed                  3092        73.5         5.5           None\n",
       "6      WindDir9am                     1        None         2.5              N\n",
       "7    WindSpeed9am                  1817        37.0       -11.0           None\n",
       "8    WindSpeed3pm                  2523        40.5        -3.5           None\n",
       "9     Humidity9am                  1425       122.0        18.0           None\n",
       "10    Humidity3pm                     0       109.5        -6.5           None\n",
       "11    Pressure9am                  1191     1036.65      998.65           None\n",
       "12    Pressure3pm                   919      1034.4       996.0           None\n",
       "13       Cloud9am                     0        16.0        -8.0           None\n",
       "14       Cloud3pm                     0        14.5        -5.5           None\n",
       "15        Temp9am                   262       35.55       -1.65           None\n",
       "16        Temp3pm                   764        41.1         1.9           None"
      ]
     },
     "execution_count": 57,
     "metadata": {},
     "output_type": "execute_result"
    }
   ],
   "source": [
    "'''\n",
    "I.2.2 Nilai pencilan (outlier) dari setiap fitur \n",
    "\n",
    "Proses pencarian nilai pencilan dari setiap fitur menggunakan metode IQR untuk fitur\n",
    "yang memiliki tipe data numerical dan menggunakan metode frequency distribution untuk \n",
    "fitur yang memiliki tipe data kategorikal.\n",
    "Data yang dianggap pencilan untuk fitur yang memiliki tipe numerical adalah data yang \n",
    "berada di luar rentang Q1 - 1.5*IQR dan Q3 + 1.5*IQR dengan IQR = Q3 - Q1.\n",
    "Data yang dianggap pencilan untuk fitur yang memiliki tipe kategorikal adalah data yang\n",
    "frekuensi z-scorenya lebih dari 2.5.\n",
    "\n",
    "'''\n",
    "\n",
    "def IQR_outlier(data, col):\n",
    "    \n",
    "    # Nilai Q1 dan Q3\n",
    "    Q1 = data[col].quantile(0.25)\n",
    "    Q3 = data[col].quantile(0.75)\n",
    "    # Nilai IQR\n",
    "    IQR = Q3 - Q1\n",
    "    # Lower bound dan upper bound\n",
    "    lower_bound = Q1 - 1.5 * IQR\n",
    "    upper_bound = Q3 + 1.5 * IQR\n",
    "    # Nilai outlier\n",
    "    outlier = data[(data[col] < lower_bound) | (data[col] > upper_bound)]\n",
    "    return outlier, lower_bound, upper_bound\n",
    "\n",
    "# Nilai pencilan dari setiap fitur\n",
    "outliers_data = pd.DataFrame(columns = ['Fitur', 'Jumlah nilai pencilan', 'Upper bound', 'Lower bound', 'Nilai pencilan'])\n",
    "\n",
    "for col in df.columns:\n",
    "    if df[col].dtype == 'float64' or df[col].dtype == 'int64':\n",
    "        outliers, lower_bound, upper_bound = IQR_outlier(df, col)\n",
    "        if len(outliers) > 0:\n",
    "            res = pd.DataFrame({'Fitur':[col], 'Jumlah nilai pencilan':[len(outliers)], 'Upper bound':[upper_bound], 'Lower bound':[lower_bound], 'Nilai pencilan':None})\n",
    "            outliers_data = pd.concat([outliers_data, res])\n",
    "        else:\n",
    "            res = pd.DataFrame({'Fitur':[col], 'Jumlah nilai pencilan':[len(outliers)], 'Upper bound':[upper_bound], 'Lower bound':[lower_bound], 'Nilai pencilan':None})\n",
    "            outliers_data = pd.concat([outliers_data, res])\n",
    "    else:\n",
    "        # Nilai frekuensi dari setiap nilai kategorikal\n",
    "        freq = df[col].value_counts()\n",
    "        # Nilai z-score dari setiap nilai kategorikal\n",
    "        z = zscore.zscore(freq)\n",
    "        # Nilai pencilan\n",
    "        outliers = freq[z > 2.5]\n",
    "        if len(outliers) > 0:\n",
    "            res = pd.DataFrame({'Fitur':[col], 'Jumlah nilai pencilan':[len(outliers)], 'Upper bound':None, 'Lower bound':[2.5], 'Nilai pencilan':outliers.index.tolist()}, index = [0])\n",
    "            outliers_data = pd.concat([outliers_data, res])\n",
    "outliers_data = outliers_data.reset_index(drop = True)\n",
    "outliers_data"
   ]
  },
  {
   "attachments": {},
   "cell_type": "markdown",
   "metadata": {
    "id": "8tUGStQ_wR4P"
   },
   "source": [
    "## I.3\n",
    "Lakukan:\n",
    "1. Pencarian korelasi antarfitur\n",
    "2. Visualisasi distribusi setiap fitur (kategorikal dan kontinu)\n",
    "3. Visualisasi distribusi setiap fitur per target (`RainTomorrow`)"
   ]
  },
  {
   "cell_type": "code",
   "execution_count": 11,
   "metadata": {
    "id": "XoBqyQA1wRNX"
   },
   "outputs": [],
   "source": [
    "# I.3 Kode di sini."
   ]
  },
  {
   "attachments": {},
   "cell_type": "markdown",
   "metadata": {
    "id": "kV3BDt235mdz"
   },
   "source": [
    "## I.4\n",
    "Lakukanlah analisis lebih lanjut jika diperlukan, kemudian lakukan hal berikut:\n",
    "1. Penambahan fitur jika memungkinkan\n",
    "2. Pembuangan fitur yang menurut kalian tidak dibutuhkan\n",
    "3. Penanganan nilai hilang\n",
    "4. Transformasi data kategorikal menjadi numerikal (_encoding_)\n",
    "5. _Scaling_ dengan `MinMaxScaler`"
   ]
  },
  {
   "cell_type": "code",
   "execution_count": 12,
   "metadata": {
    "id": "jlTGspG_56re"
   },
   "outputs": [],
   "source": [
    "# I.4.1 Penambahan fitur jika memungkinkan"
   ]
  },
  {
   "cell_type": "code",
   "execution_count": null,
   "metadata": {},
   "outputs": [],
   "source": [
    "# I.4.2 Pembuangan fitur yang tidak diperlukan"
   ]
  },
  {
   "cell_type": "code",
   "execution_count": null,
   "metadata": {},
   "outputs": [],
   "source": [
    "# I.4.3 Penanganan nilai hilang (missing)"
   ]
  },
  {
   "cell_type": "code",
   "execution_count": null,
   "metadata": {},
   "outputs": [],
   "source": [
    "# I.4.4 Transformasi data kategorikal menjadi numerikal (encoding)"
   ]
  },
  {
   "cell_type": "code",
   "execution_count": null,
   "metadata": {},
   "outputs": [],
   "source": [
    "# I.4.5 Scaling dengan metode MinMaxScaler"
   ]
  },
  {
   "attachments": {},
   "cell_type": "markdown",
   "metadata": {
    "id": "mt2zHZRauLIm"
   },
   "source": [
    "# II. Desain Eksperimen\n",
    "Tujuan dari bagian ini adalah peserta dapat memahami cara melakukan eksperimen mencari metode terbaik dengan benar. Hal yang diliputi adalah sebagai berikut:\n",
    "1. Pembuatan model\n",
    "2. Proses validasi\n",
    "3. _Hyperparameter tuning_"
   ]
  },
  {
   "attachments": {},
   "cell_type": "markdown",
   "metadata": {
    "id": "Kf4xsl8RydIt"
   },
   "source": [
    "## II.1\n",
    "Tentukanlah metrik yang akan digunakan pada eksperimen kali ini. Metrik yang dapat lebih dari satu jenis."
   ]
  },
  {
   "attachments": {},
   "cell_type": "markdown",
   "metadata": {
    "id": "S2I0axfj4OuC"
   },
   "source": [
    "(Tuliskan jawaban bagian II.1 di sini.)"
   ]
  },
  {
   "attachments": {},
   "cell_type": "markdown",
   "metadata": {
    "id": "FONT0OyUyoQG"
   },
   "source": [
    "## II.2 \n",
    "Bagi data dengan perbandingan 0,8 untuk data latih dan 0,2 untuk data validasi."
   ]
  },
  {
   "cell_type": "code",
   "execution_count": 13,
   "metadata": {
    "id": "Gqa9nn5muMS2"
   },
   "outputs": [],
   "source": [
    "# II.2 Kode di sini"
   ]
  },
  {
   "attachments": {},
   "cell_type": "markdown",
   "metadata": {
    "id": "V4yS8O3tyyyh"
   },
   "source": [
    "## II.3\n",
    "Lakukan hal berikut:\n",
    "1. Prediksi dengan menggunakan model _logistic regression_ sebagai _baseline_.\n",
    "2. Tampilkan evaluasi dari model yang dibangun dari metrik yang ditentukan pada II.1\n",
    "3. Tampilkan _confusion matrix_."
   ]
  },
  {
   "cell_type": "code",
   "execution_count": 14,
   "metadata": {
    "id": "EpEqAz94yyQo"
   },
   "outputs": [],
   "source": [
    "# II.3 Kode di sini"
   ]
  },
  {
   "attachments": {},
   "cell_type": "markdown",
   "metadata": {
    "id": "aFB2AlZfzU54"
   },
   "source": [
    "## II.4 \n",
    "Lakukanlah:\n",
    "1. Pembelajaran dengan model lain\n",
    "2. _Hyperparameter tuning_ untuk model yang dipakai dengan menggunakan _grid search_ (perhatikan _random factor_ pada beberapa algoritma model)\n",
    "3. Validasi dengan _cross validation_\n"
   ]
  },
  {
   "cell_type": "code",
   "execution_count": 15,
   "metadata": {
    "id": "df0YVJ7dzUSc"
   },
   "outputs": [],
   "source": [
    "# II.4 Kode di sini."
   ]
  },
  {
   "attachments": {},
   "cell_type": "markdown",
   "metadata": {
    "id": "5ePIGuRZuNZb"
   },
   "source": [
    "# III. Improvement\n",
    "Pada bagian ini, kalian diharapkan dapat:\n",
    "1. melakukan pelatihan dengan data hasil _oversampling_ / _undersampling_, disertai dengan validasi yang benar; serta\n",
    "2. menerapkan beberapa metode untuk menggabungkan beberapa model.\n",
    "\n",
    "Kedua hal ini adalah contoh metode untuk meningkatkan kinerja dari model."
   ]
  },
  {
   "attachments": {},
   "cell_type": "markdown",
   "metadata": {
    "id": "NGgjXVqf1vhN"
   },
   "source": [
    "## III.1\n",
    "Lakukanlah:\n",
    "1. _Oversampling_ pada kelas minoritas pada data latih\n",
    "2. _Undersampling_ pada kelas mayoritas pada data latih\n",
    "\n",
    "Pada setiap tahap, latih dengan model *baseline* (II.3), dan validasi dengan data validasi. Data latih dan validasi adalah data yang disusun pada bagian II.2."
   ]
  },
  {
   "cell_type": "code",
   "execution_count": 16,
   "metadata": {
    "id": "bLLLsyoF2GIM"
   },
   "outputs": [],
   "source": [
    "# III.1 Kode di sini."
   ]
  },
  {
   "attachments": {},
   "cell_type": "markdown",
   "metadata": {
    "id": "FtbGHN3P2Fxe"
   },
   "source": [
    "## III.2\n",
    "Lakukanlah:\n",
    "1. Eksplorasi _soft voting_, _hard voting_, dan _stacking_.\n",
    "2. Buatlah model _logistic regression_ dan SVM.\n",
    "3. Lakukanlah _soft voting_ dari model-model yang dibangun pada poin 2.\n",
    "4. Lakukan _hard voting_ dari model-model yang dibangun pada poin 2.\n",
    "5. Lakukanlah _stacking_ dengan _final classifier_ adalah _logistic regression_ dari model-model yang dibangun pada poin 2.\n",
    "6. Lakukan validasi dengan metrics yang telah ditentukan untuk poin 3, 4, dan 5."
   ]
  },
  {
   "attachments": {},
   "cell_type": "markdown",
   "metadata": {
    "id": "NfGqy72SAZ-t"
   },
   "source": [
    "(Tuliskan hasil eksplorasi III.2 poin 1 di sini.)"
   ]
  },
  {
   "cell_type": "code",
   "execution_count": 17,
   "metadata": {
    "id": "zdchguBQtErx"
   },
   "outputs": [],
   "source": [
    "# III.2 Kode di sini."
   ]
  },
  {
   "attachments": {},
   "cell_type": "markdown",
   "metadata": {
    "id": "unmFXb-73OMD"
   },
   "source": [
    "# IV. Analisis\n",
    "Bandingkan hasil dari hal-hal berikut:\n",
    "1. Model _baseline_ (II.3)\n",
    "2. Model lain (II.4)\n",
    "3. Hasil _undersampling_\n",
    "4. Hasil _oversampling_\n",
    "5. Hasil _soft voting_\n",
    "6. Hasil _hard voting_\n",
    "7. Hasil _stacking_"
   ]
  },
  {
   "attachments": {},
   "cell_type": "markdown",
   "metadata": {
    "id": "e9x0VH2AAkwZ"
   },
   "source": [
    "(Tuliskan jawaban bagian IV di sini.)"
   ]
  }
 ],
 "metadata": {
  "colab": {
   "collapsed_sections": [],
   "name": "Tugas Pendahuluan IF3270.ipynb",
   "provenance": []
  },
  "kernelspec": {
   "display_name": "Python 3 (ipykernel)",
   "language": "python",
   "name": "python3"
  },
  "language_info": {
   "codemirror_mode": {
    "name": "ipython",
    "version": 3
   },
   "file_extension": ".py",
   "mimetype": "text/x-python",
   "name": "python",
   "nbconvert_exporter": "python",
   "pygments_lexer": "ipython3",
   "version": "3.10.4"
  }
 },
 "nbformat": 4,
 "nbformat_minor": 4
}

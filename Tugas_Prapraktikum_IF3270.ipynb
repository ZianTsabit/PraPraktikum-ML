{
  "cells": [
    {
      "cell_type": "markdown",
      "metadata": {
        "id": "bdq8ydSd4xUy"
      },
      "source": [
        "# Tugas Prapraktikum\n",
        "\n",
        "Tugas Prapraktikum dikerjakan dengan _dataset_ [Rain in Australia](https://www.kaggle.com/datasets/jsphyg/weather-dataset-rattle-package/download?datasetVersionNumber=2). Tanpa meninjau waktu (`date`), prediksi status hujan pada keesokan harinya (`RainTomorrow`). Berikan nilai `1` jika diprediksi hujan pada keesokan harinya, `0` jika tidak.\n",
        "\n",
        "<br>\n",
        "Oleh :\n",
        "<br>\n",
        "1. 13520135 - Muhammad Alif Putra Yasa\n",
        "<br>\n",
        "2. 13520165 - Ghazian Tsabit Alkamil"
      ]
    },
    {
      "cell_type": "markdown",
      "metadata": {
        "id": "XAHqneEY7b7b"
      },
      "source": [
        "# 0. Persiapan Data and Pustaka"
      ]
    },
    {
      "cell_type": "code",
      "execution_count": 28,
      "metadata": {
        "id": "zsBbpcIi7fHi"
      },
      "outputs": [],
      "source": [
        "# Letakkan pustaka di sini.\n",
        "import numpy as np\n",
        "import pandas as pd\n",
        "import scipy.stats as zscore\n",
        "from sklearn.preprocessing import LabelEncoder, MinMaxScaler\n",
        "from sklearn.linear_model import LogisticRegression\n",
        "from sklearn.metrics import accuracy_score, confusion_matrix, classification_report, precision_score, recall_score, f1_score\n",
        "from sklearn.model_selection import train_test_split, cross_val_score, GridSearchCV\n",
        "import matplotlib.pyplot as plt\n",
        "from imblearn.over_sampling import RandomOverSampler\n",
        "from imblearn.under_sampling import RandomUnderSampler\n",
        "from sklearn.exceptions import ConvergenceWarning\n",
        "import warnings\n",
        "warnings.filterwarnings(\"ignore\", category=ConvergenceWarning)"
      ]
    },
    {
      "cell_type": "code",
      "execution_count": 29,
      "metadata": {
        "colab": {
          "base_uri": "https://localhost:8080/",
          "height": 299
        },
        "id": "OWLkjeKo7gdD",
        "outputId": "8e69c513-2b26-4ed1-b9e3-ba54f5cd1dae"
      },
      "outputs": [
        {
          "data": {
            "text/html": [
              "<div>\n",
              "<style scoped>\n",
              "    .dataframe tbody tr th:only-of-type {\n",
              "        vertical-align: middle;\n",
              "    }\n",
              "\n",
              "    .dataframe tbody tr th {\n",
              "        vertical-align: top;\n",
              "    }\n",
              "\n",
              "    .dataframe thead th {\n",
              "        text-align: right;\n",
              "    }\n",
              "</style>\n",
              "<table border=\"1\" class=\"dataframe\">\n",
              "  <thead>\n",
              "    <tr style=\"text-align: right;\">\n",
              "      <th></th>\n",
              "      <th>Date</th>\n",
              "      <th>Location</th>\n",
              "      <th>MinTemp</th>\n",
              "      <th>MaxTemp</th>\n",
              "      <th>Rainfall</th>\n",
              "      <th>Evaporation</th>\n",
              "      <th>Sunshine</th>\n",
              "      <th>WindGustDir</th>\n",
              "      <th>WindGustSpeed</th>\n",
              "      <th>WindDir9am</th>\n",
              "      <th>...</th>\n",
              "      <th>Humidity9am</th>\n",
              "      <th>Humidity3pm</th>\n",
              "      <th>Pressure9am</th>\n",
              "      <th>Pressure3pm</th>\n",
              "      <th>Cloud9am</th>\n",
              "      <th>Cloud3pm</th>\n",
              "      <th>Temp9am</th>\n",
              "      <th>Temp3pm</th>\n",
              "      <th>RainToday</th>\n",
              "      <th>RainTomorrow</th>\n",
              "    </tr>\n",
              "  </thead>\n",
              "  <tbody>\n",
              "    <tr>\n",
              "      <th>0</th>\n",
              "      <td>2008-12-01</td>\n",
              "      <td>Albury</td>\n",
              "      <td>13.4</td>\n",
              "      <td>22.9</td>\n",
              "      <td>0.6</td>\n",
              "      <td>NaN</td>\n",
              "      <td>NaN</td>\n",
              "      <td>W</td>\n",
              "      <td>44.0</td>\n",
              "      <td>W</td>\n",
              "      <td>...</td>\n",
              "      <td>71.0</td>\n",
              "      <td>22.0</td>\n",
              "      <td>1007.7</td>\n",
              "      <td>1007.1</td>\n",
              "      <td>8.0</td>\n",
              "      <td>NaN</td>\n",
              "      <td>16.9</td>\n",
              "      <td>21.8</td>\n",
              "      <td>No</td>\n",
              "      <td>No</td>\n",
              "    </tr>\n",
              "    <tr>\n",
              "      <th>1</th>\n",
              "      <td>2008-12-02</td>\n",
              "      <td>Albury</td>\n",
              "      <td>7.4</td>\n",
              "      <td>25.1</td>\n",
              "      <td>0.0</td>\n",
              "      <td>NaN</td>\n",
              "      <td>NaN</td>\n",
              "      <td>WNW</td>\n",
              "      <td>44.0</td>\n",
              "      <td>NNW</td>\n",
              "      <td>...</td>\n",
              "      <td>44.0</td>\n",
              "      <td>25.0</td>\n",
              "      <td>1010.6</td>\n",
              "      <td>1007.8</td>\n",
              "      <td>NaN</td>\n",
              "      <td>NaN</td>\n",
              "      <td>17.2</td>\n",
              "      <td>24.3</td>\n",
              "      <td>No</td>\n",
              "      <td>No</td>\n",
              "    </tr>\n",
              "    <tr>\n",
              "      <th>2</th>\n",
              "      <td>2008-12-03</td>\n",
              "      <td>Albury</td>\n",
              "      <td>12.9</td>\n",
              "      <td>25.7</td>\n",
              "      <td>0.0</td>\n",
              "      <td>NaN</td>\n",
              "      <td>NaN</td>\n",
              "      <td>WSW</td>\n",
              "      <td>46.0</td>\n",
              "      <td>W</td>\n",
              "      <td>...</td>\n",
              "      <td>38.0</td>\n",
              "      <td>30.0</td>\n",
              "      <td>1007.6</td>\n",
              "      <td>1008.7</td>\n",
              "      <td>NaN</td>\n",
              "      <td>2.0</td>\n",
              "      <td>21.0</td>\n",
              "      <td>23.2</td>\n",
              "      <td>No</td>\n",
              "      <td>No</td>\n",
              "    </tr>\n",
              "    <tr>\n",
              "      <th>3</th>\n",
              "      <td>2008-12-04</td>\n",
              "      <td>Albury</td>\n",
              "      <td>9.2</td>\n",
              "      <td>28.0</td>\n",
              "      <td>0.0</td>\n",
              "      <td>NaN</td>\n",
              "      <td>NaN</td>\n",
              "      <td>NE</td>\n",
              "      <td>24.0</td>\n",
              "      <td>SE</td>\n",
              "      <td>...</td>\n",
              "      <td>45.0</td>\n",
              "      <td>16.0</td>\n",
              "      <td>1017.6</td>\n",
              "      <td>1012.8</td>\n",
              "      <td>NaN</td>\n",
              "      <td>NaN</td>\n",
              "      <td>18.1</td>\n",
              "      <td>26.5</td>\n",
              "      <td>No</td>\n",
              "      <td>No</td>\n",
              "    </tr>\n",
              "    <tr>\n",
              "      <th>4</th>\n",
              "      <td>2008-12-05</td>\n",
              "      <td>Albury</td>\n",
              "      <td>17.5</td>\n",
              "      <td>32.3</td>\n",
              "      <td>1.0</td>\n",
              "      <td>NaN</td>\n",
              "      <td>NaN</td>\n",
              "      <td>W</td>\n",
              "      <td>41.0</td>\n",
              "      <td>ENE</td>\n",
              "      <td>...</td>\n",
              "      <td>82.0</td>\n",
              "      <td>33.0</td>\n",
              "      <td>1010.8</td>\n",
              "      <td>1006.0</td>\n",
              "      <td>7.0</td>\n",
              "      <td>8.0</td>\n",
              "      <td>17.8</td>\n",
              "      <td>29.7</td>\n",
              "      <td>No</td>\n",
              "      <td>No</td>\n",
              "    </tr>\n",
              "  </tbody>\n",
              "</table>\n",
              "<p>5 rows × 23 columns</p>\n",
              "</div>"
            ],
            "text/plain": [
              "         Date Location  MinTemp  MaxTemp  Rainfall  Evaporation  Sunshine  \\\n",
              "0  2008-12-01   Albury     13.4     22.9       0.6          NaN       NaN   \n",
              "1  2008-12-02   Albury      7.4     25.1       0.0          NaN       NaN   \n",
              "2  2008-12-03   Albury     12.9     25.7       0.0          NaN       NaN   \n",
              "3  2008-12-04   Albury      9.2     28.0       0.0          NaN       NaN   \n",
              "4  2008-12-05   Albury     17.5     32.3       1.0          NaN       NaN   \n",
              "\n",
              "  WindGustDir  WindGustSpeed WindDir9am  ... Humidity9am  Humidity3pm  \\\n",
              "0           W           44.0          W  ...        71.0         22.0   \n",
              "1         WNW           44.0        NNW  ...        44.0         25.0   \n",
              "2         WSW           46.0          W  ...        38.0         30.0   \n",
              "3          NE           24.0         SE  ...        45.0         16.0   \n",
              "4           W           41.0        ENE  ...        82.0         33.0   \n",
              "\n",
              "   Pressure9am  Pressure3pm  Cloud9am  Cloud3pm  Temp9am  Temp3pm  RainToday  \\\n",
              "0       1007.7       1007.1       8.0       NaN     16.9     21.8         No   \n",
              "1       1010.6       1007.8       NaN       NaN     17.2     24.3         No   \n",
              "2       1007.6       1008.7       NaN       2.0     21.0     23.2         No   \n",
              "3       1017.6       1012.8       NaN       NaN     18.1     26.5         No   \n",
              "4       1010.8       1006.0       7.0       8.0     17.8     29.7         No   \n",
              "\n",
              "   RainTomorrow  \n",
              "0            No  \n",
              "1            No  \n",
              "2            No  \n",
              "3            No  \n",
              "4            No  \n",
              "\n",
              "[5 rows x 23 columns]"
            ]
          },
          "execution_count": 29,
          "metadata": {},
          "output_type": "execute_result"
        }
      ],
      "source": [
        "# Baca data di sini.\n",
        "\n",
        "data = pd.read_csv(\"weatherAUS.csv\")\n",
        "df = pd.DataFrame(data)\n",
        "df.head()"
      ]
    },
    {
      "cell_type": "markdown",
      "metadata": {
        "id": "JYGzyrantR1r"
      },
      "source": [
        "# I. Pemahaman Data\n",
        "Tujuan dari bagian ini adalah peserta dapat memahami kualitas dari data yang diberikan. Hal yang diliputi adalah sebagai berikut:\n",
        "1. Ukuran data\n",
        "2. Statistik dari tiap fitur\n",
        "3. Pencilan (_outlier_)\n",
        "4. Korelasi\n",
        "5. Distribusi "
      ]
    },
    {
      "cell_type": "markdown",
      "metadata": {
        "id": "8SMf9-ikuoCe"
      },
      "source": [
        "## I.1 \n",
        "Carilah:\n",
        "1. Ukuran dari data (instansi dan fitur)\n",
        "2. Tipe dari setiap fitur \n",
        "3. Banyak nilai unik dari fitur yang bertipe kategorikal\n",
        "4. Nilai minimum, maksimum, rata-rata, median, dan standar deviasi dari fitur nonkategorikal"
      ]
    },
    {
      "cell_type": "markdown",
      "metadata": {
        "id": "KjZDEtTPJp2q"
      },
      "source": [
        "### I.1.1\n",
        "\n",
        "Ukuran Data"
      ]
    },
    {
      "cell_type": "code",
      "execution_count": 30,
      "metadata": {
        "colab": {
          "base_uri": "https://localhost:8080/"
        },
        "id": "SAxrfZySuM3-",
        "outputId": "ce73d8e4-4f6c-42f6-8948-4e9794f951e4"
      },
      "outputs": [
        {
          "data": {
            "text/plain": [
              "(145460, 23)"
            ]
          },
          "execution_count": 30,
          "metadata": {},
          "output_type": "execute_result"
        }
      ],
      "source": [
        "df.shape"
      ]
    },
    {
      "cell_type": "markdown",
      "metadata": {
        "id": "we_yJ9DfJp2t"
      },
      "source": [
        "Terdapat **23 fitur** dan **145460 instansi**"
      ]
    },
    {
      "cell_type": "markdown",
      "metadata": {
        "id": "_bdjTzzrJp2w"
      },
      "source": [
        "### I.1.2\n",
        "\n",
        "Tipe dari setiap fitur"
      ]
    },
    {
      "cell_type": "code",
      "execution_count": 31,
      "metadata": {
        "colab": {
          "base_uri": "https://localhost:8080/"
        },
        "id": "WEhzxdKsJp2y",
        "outputId": "1024e511-511e-4d8b-8747-22a8631a0951",
        "scrolled": false
      },
      "outputs": [
        {
          "data": {
            "text/plain": [
              "Date              object\n",
              "Location          object\n",
              "MinTemp          float64\n",
              "MaxTemp          float64\n",
              "Rainfall         float64\n",
              "Evaporation      float64\n",
              "Sunshine         float64\n",
              "WindGustDir       object\n",
              "WindGustSpeed    float64\n",
              "WindDir9am        object\n",
              "WindDir3pm        object\n",
              "WindSpeed9am     float64\n",
              "WindSpeed3pm     float64\n",
              "Humidity9am      float64\n",
              "Humidity3pm      float64\n",
              "Pressure9am      float64\n",
              "Pressure3pm      float64\n",
              "Cloud9am         float64\n",
              "Cloud3pm         float64\n",
              "Temp9am          float64\n",
              "Temp3pm          float64\n",
              "RainToday         object\n",
              "RainTomorrow      object\n",
              "dtype: object"
            ]
          },
          "execution_count": 31,
          "metadata": {},
          "output_type": "execute_result"
        }
      ],
      "source": [
        "df.dtypes"
      ]
    },
    {
      "cell_type": "markdown",
      "metadata": {
        "id": "AzAB_wp-Jp21"
      },
      "source": [
        "### I.1.3\n",
        "\n",
        "Banyak nilai unik dari fitur yang bertipe kategorikal"
      ]
    },
    {
      "cell_type": "code",
      "execution_count": 32,
      "metadata": {
        "colab": {
          "base_uri": "https://localhost:8080/"
        },
        "id": "zllgYgciJp25",
        "outputId": "f2cc1af6-33dd-46c8-8c8d-896962c85c74",
        "scrolled": true
      },
      "outputs": [
        {
          "data": {
            "text/plain": [
              "['Date',\n",
              " 'Location',\n",
              " 'WindGustDir',\n",
              " 'WindDir9am',\n",
              " 'WindDir3pm',\n",
              " 'RainToday',\n",
              " 'RainTomorrow']"
            ]
          },
          "execution_count": 32,
          "metadata": {},
          "output_type": "execute_result"
        }
      ],
      "source": [
        "# Fitur-fitur kategorikal\n",
        "categorical_features = [col for col in df.columns if df[col].dtype == \"object\"]\n",
        "categorical_features"
      ]
    },
    {
      "cell_type": "code",
      "execution_count": 33,
      "metadata": {
        "colab": {
          "base_uri": "https://localhost:8080/"
        },
        "id": "qBNr_6vAJp27",
        "outputId": "31839bb8-c268-45c0-bcee-57086eea06e3",
        "scrolled": false
      },
      "outputs": [
        {
          "name": "stdout",
          "output_type": "stream",
          "text": [
            "Jumlah nilai unik:\n",
            " - Date         : 3436\n",
            " - Location     :   49\n",
            " - WindGustDir  :   16\n",
            " - WindDir9am   :   16\n",
            " - WindDir3pm   :   16\n",
            " - RainToday    :    2\n",
            " - RainTomorrow :    2\n"
          ]
        }
      ],
      "source": [
        "print(\"Jumlah nilai unik:\")\n",
        "for feature in categorical_features:\n",
        "    print(f\" - {feature:<13}: {df[feature].nunique():>4}\")"
      ]
    },
    {
      "cell_type": "markdown",
      "metadata": {
        "id": "IVXDQ7tiJp29"
      },
      "source": [
        "### I.1.4\n",
        "\n",
        "Nilai minimum, maksimum, rata-rata, median, dan standar deviasi dari fitur nonkategorikal"
      ]
    },
    {
      "cell_type": "code",
      "execution_count": 34,
      "metadata": {
        "colab": {
          "base_uri": "https://localhost:8080/"
        },
        "id": "-7oa9wtMJp2-",
        "outputId": "46eb050f-b1ef-4e76-fd1d-ec928b5bd6ae"
      },
      "outputs": [
        {
          "data": {
            "text/plain": [
              "['MinTemp',\n",
              " 'MaxTemp',\n",
              " 'Rainfall',\n",
              " 'Evaporation',\n",
              " 'Sunshine',\n",
              " 'WindGustSpeed',\n",
              " 'WindSpeed9am',\n",
              " 'WindSpeed3pm',\n",
              " 'Humidity9am',\n",
              " 'Humidity3pm',\n",
              " 'Pressure9am',\n",
              " 'Pressure3pm',\n",
              " 'Cloud9am',\n",
              " 'Cloud3pm',\n",
              " 'Temp9am',\n",
              " 'Temp3pm']"
            ]
          },
          "execution_count": 34,
          "metadata": {},
          "output_type": "execute_result"
        }
      ],
      "source": [
        "# Fitur non kategorikal\n",
        "noncategorical_features = [col for col in df.columns if df[col].dtype != \"object\"]\n",
        "noncategorical_features"
      ]
    },
    {
      "cell_type": "code",
      "execution_count": 35,
      "metadata": {
        "colab": {
          "base_uri": "https://localhost:8080/",
          "height": 270
        },
        "id": "jws4TumOJp3A",
        "outputId": "aececdf4-4df9-4814-aeee-34ab252196dc"
      },
      "outputs": [
        {
          "data": {
            "text/html": [
              "<div>\n",
              "<style scoped>\n",
              "    .dataframe tbody tr th:only-of-type {\n",
              "        vertical-align: middle;\n",
              "    }\n",
              "\n",
              "    .dataframe tbody tr th {\n",
              "        vertical-align: top;\n",
              "    }\n",
              "\n",
              "    .dataframe thead th {\n",
              "        text-align: right;\n",
              "    }\n",
              "</style>\n",
              "<table border=\"1\" class=\"dataframe\">\n",
              "  <thead>\n",
              "    <tr style=\"text-align: right;\">\n",
              "      <th></th>\n",
              "      <th>MinTemp</th>\n",
              "      <th>MaxTemp</th>\n",
              "      <th>Rainfall</th>\n",
              "      <th>Evaporation</th>\n",
              "      <th>Sunshine</th>\n",
              "      <th>WindGustSpeed</th>\n",
              "      <th>WindSpeed9am</th>\n",
              "      <th>WindSpeed3pm</th>\n",
              "      <th>Humidity9am</th>\n",
              "      <th>Humidity3pm</th>\n",
              "      <th>Pressure9am</th>\n",
              "      <th>Pressure3pm</th>\n",
              "      <th>Cloud9am</th>\n",
              "      <th>Cloud3pm</th>\n",
              "      <th>Temp9am</th>\n",
              "      <th>Temp3pm</th>\n",
              "    </tr>\n",
              "  </thead>\n",
              "  <tbody>\n",
              "    <tr>\n",
              "      <th>min</th>\n",
              "      <td>-8.500000</td>\n",
              "      <td>-4.800000</td>\n",
              "      <td>0.000000</td>\n",
              "      <td>0.000000</td>\n",
              "      <td>0.000000</td>\n",
              "      <td>6.000000</td>\n",
              "      <td>0.000000</td>\n",
              "      <td>0.000000</td>\n",
              "      <td>0.000000</td>\n",
              "      <td>0.000000</td>\n",
              "      <td>980.50000</td>\n",
              "      <td>977.100000</td>\n",
              "      <td>0.000000</td>\n",
              "      <td>0.000000</td>\n",
              "      <td>-7.200000</td>\n",
              "      <td>-5.40000</td>\n",
              "    </tr>\n",
              "    <tr>\n",
              "      <th>max</th>\n",
              "      <td>33.900000</td>\n",
              "      <td>48.100000</td>\n",
              "      <td>371.000000</td>\n",
              "      <td>145.000000</td>\n",
              "      <td>14.500000</td>\n",
              "      <td>135.000000</td>\n",
              "      <td>130.000000</td>\n",
              "      <td>87.000000</td>\n",
              "      <td>100.000000</td>\n",
              "      <td>100.000000</td>\n",
              "      <td>1041.00000</td>\n",
              "      <td>1039.600000</td>\n",
              "      <td>9.000000</td>\n",
              "      <td>9.000000</td>\n",
              "      <td>40.200000</td>\n",
              "      <td>46.70000</td>\n",
              "    </tr>\n",
              "    <tr>\n",
              "      <th>mean</th>\n",
              "      <td>12.194034</td>\n",
              "      <td>23.221348</td>\n",
              "      <td>2.360918</td>\n",
              "      <td>5.468232</td>\n",
              "      <td>7.611178</td>\n",
              "      <td>40.035230</td>\n",
              "      <td>14.043426</td>\n",
              "      <td>18.662657</td>\n",
              "      <td>68.880831</td>\n",
              "      <td>51.539116</td>\n",
              "      <td>1017.64994</td>\n",
              "      <td>1015.255889</td>\n",
              "      <td>4.447461</td>\n",
              "      <td>4.509930</td>\n",
              "      <td>16.990631</td>\n",
              "      <td>21.68339</td>\n",
              "    </tr>\n",
              "    <tr>\n",
              "      <th>median</th>\n",
              "      <td>12.000000</td>\n",
              "      <td>22.600000</td>\n",
              "      <td>0.000000</td>\n",
              "      <td>4.800000</td>\n",
              "      <td>8.400000</td>\n",
              "      <td>39.000000</td>\n",
              "      <td>13.000000</td>\n",
              "      <td>19.000000</td>\n",
              "      <td>70.000000</td>\n",
              "      <td>52.000000</td>\n",
              "      <td>1017.60000</td>\n",
              "      <td>1015.200000</td>\n",
              "      <td>5.000000</td>\n",
              "      <td>5.000000</td>\n",
              "      <td>16.700000</td>\n",
              "      <td>21.10000</td>\n",
              "    </tr>\n",
              "    <tr>\n",
              "      <th>std</th>\n",
              "      <td>6.398495</td>\n",
              "      <td>7.119049</td>\n",
              "      <td>8.478060</td>\n",
              "      <td>4.193704</td>\n",
              "      <td>3.785483</td>\n",
              "      <td>13.607062</td>\n",
              "      <td>8.915375</td>\n",
              "      <td>8.809800</td>\n",
              "      <td>19.029164</td>\n",
              "      <td>20.795902</td>\n",
              "      <td>7.10653</td>\n",
              "      <td>7.037414</td>\n",
              "      <td>2.887159</td>\n",
              "      <td>2.720357</td>\n",
              "      <td>6.488753</td>\n",
              "      <td>6.93665</td>\n",
              "    </tr>\n",
              "  </tbody>\n",
              "</table>\n",
              "</div>"
            ],
            "text/plain": [
              "          MinTemp    MaxTemp    Rainfall  Evaporation   Sunshine  \\\n",
              "min     -8.500000  -4.800000    0.000000     0.000000   0.000000   \n",
              "max     33.900000  48.100000  371.000000   145.000000  14.500000   \n",
              "mean    12.194034  23.221348    2.360918     5.468232   7.611178   \n",
              "median  12.000000  22.600000    0.000000     4.800000   8.400000   \n",
              "std      6.398495   7.119049    8.478060     4.193704   3.785483   \n",
              "\n",
              "        WindGustSpeed  WindSpeed9am  WindSpeed3pm  Humidity9am  Humidity3pm  \\\n",
              "min          6.000000      0.000000      0.000000     0.000000     0.000000   \n",
              "max        135.000000    130.000000     87.000000   100.000000   100.000000   \n",
              "mean        40.035230     14.043426     18.662657    68.880831    51.539116   \n",
              "median      39.000000     13.000000     19.000000    70.000000    52.000000   \n",
              "std         13.607062      8.915375      8.809800    19.029164    20.795902   \n",
              "\n",
              "        Pressure9am  Pressure3pm  Cloud9am  Cloud3pm    Temp9am   Temp3pm  \n",
              "min       980.50000   977.100000  0.000000  0.000000  -7.200000  -5.40000  \n",
              "max      1041.00000  1039.600000  9.000000  9.000000  40.200000  46.70000  \n",
              "mean     1017.64994  1015.255889  4.447461  4.509930  16.990631  21.68339  \n",
              "median   1017.60000  1015.200000  5.000000  5.000000  16.700000  21.10000  \n",
              "std         7.10653     7.037414  2.887159  2.720357   6.488753   6.93665  "
            ]
          },
          "execution_count": 35,
          "metadata": {},
          "output_type": "execute_result"
        }
      ],
      "source": [
        "(\n",
        "    df[noncategorical_features]\n",
        "        .describe()\n",
        "        .loc[[\"min\", \"max\", \"mean\", \"50%\", \"std\"]]\n",
        "        .rename(index={'50%': 'median'})\n",
        ")"
      ]
    },
    {
      "cell_type": "markdown",
      "metadata": {
        "id": "VE1l_gOTwHuz"
      },
      "source": [
        "## I.2\n",
        "Carilah:\n",
        "1. Nilai hilang (_missing_) dari setiap fitur\n",
        "2. Nilai pencilan (_outlier_) dari setiap fitur"
      ]
    },
    {
      "cell_type": "code",
      "execution_count": 36,
      "metadata": {
        "colab": {
          "base_uri": "https://localhost:8080/",
          "height": 770
        },
        "id": "IGe-YWAvwQDr",
        "outputId": "1fcbca28-eb2c-4652-bdfb-31cb9eaa833b"
      },
      "outputs": [
        {
          "data": {
            "text/html": [
              "<div>\n",
              "<style scoped>\n",
              "    .dataframe tbody tr th:only-of-type {\n",
              "        vertical-align: middle;\n",
              "    }\n",
              "\n",
              "    .dataframe tbody tr th {\n",
              "        vertical-align: top;\n",
              "    }\n",
              "\n",
              "    .dataframe thead th {\n",
              "        text-align: right;\n",
              "    }\n",
              "</style>\n",
              "<table border=\"1\" class=\"dataframe\">\n",
              "  <thead>\n",
              "    <tr style=\"text-align: right;\">\n",
              "      <th></th>\n",
              "      <th>jumlah missing value</th>\n",
              "    </tr>\n",
              "  </thead>\n",
              "  <tbody>\n",
              "    <tr>\n",
              "      <th>Date</th>\n",
              "      <td>0</td>\n",
              "    </tr>\n",
              "    <tr>\n",
              "      <th>Location</th>\n",
              "      <td>0</td>\n",
              "    </tr>\n",
              "    <tr>\n",
              "      <th>MinTemp</th>\n",
              "      <td>1485</td>\n",
              "    </tr>\n",
              "    <tr>\n",
              "      <th>MaxTemp</th>\n",
              "      <td>1261</td>\n",
              "    </tr>\n",
              "    <tr>\n",
              "      <th>Rainfall</th>\n",
              "      <td>3261</td>\n",
              "    </tr>\n",
              "    <tr>\n",
              "      <th>Evaporation</th>\n",
              "      <td>62790</td>\n",
              "    </tr>\n",
              "    <tr>\n",
              "      <th>Sunshine</th>\n",
              "      <td>69835</td>\n",
              "    </tr>\n",
              "    <tr>\n",
              "      <th>WindGustDir</th>\n",
              "      <td>10326</td>\n",
              "    </tr>\n",
              "    <tr>\n",
              "      <th>WindGustSpeed</th>\n",
              "      <td>10263</td>\n",
              "    </tr>\n",
              "    <tr>\n",
              "      <th>WindDir9am</th>\n",
              "      <td>10566</td>\n",
              "    </tr>\n",
              "    <tr>\n",
              "      <th>WindDir3pm</th>\n",
              "      <td>4228</td>\n",
              "    </tr>\n",
              "    <tr>\n",
              "      <th>WindSpeed9am</th>\n",
              "      <td>1767</td>\n",
              "    </tr>\n",
              "    <tr>\n",
              "      <th>WindSpeed3pm</th>\n",
              "      <td>3062</td>\n",
              "    </tr>\n",
              "    <tr>\n",
              "      <th>Humidity9am</th>\n",
              "      <td>2654</td>\n",
              "    </tr>\n",
              "    <tr>\n",
              "      <th>Humidity3pm</th>\n",
              "      <td>4507</td>\n",
              "    </tr>\n",
              "    <tr>\n",
              "      <th>Pressure9am</th>\n",
              "      <td>15065</td>\n",
              "    </tr>\n",
              "    <tr>\n",
              "      <th>Pressure3pm</th>\n",
              "      <td>15028</td>\n",
              "    </tr>\n",
              "    <tr>\n",
              "      <th>Cloud9am</th>\n",
              "      <td>55888</td>\n",
              "    </tr>\n",
              "    <tr>\n",
              "      <th>Cloud3pm</th>\n",
              "      <td>59358</td>\n",
              "    </tr>\n",
              "    <tr>\n",
              "      <th>Temp9am</th>\n",
              "      <td>1767</td>\n",
              "    </tr>\n",
              "    <tr>\n",
              "      <th>Temp3pm</th>\n",
              "      <td>3609</td>\n",
              "    </tr>\n",
              "    <tr>\n",
              "      <th>RainToday</th>\n",
              "      <td>3261</td>\n",
              "    </tr>\n",
              "    <tr>\n",
              "      <th>RainTomorrow</th>\n",
              "      <td>3267</td>\n",
              "    </tr>\n",
              "  </tbody>\n",
              "</table>\n",
              "</div>"
            ],
            "text/plain": [
              "               jumlah missing value\n",
              "Date                              0\n",
              "Location                          0\n",
              "MinTemp                        1485\n",
              "MaxTemp                        1261\n",
              "Rainfall                       3261\n",
              "Evaporation                   62790\n",
              "Sunshine                      69835\n",
              "WindGustDir                   10326\n",
              "WindGustSpeed                 10263\n",
              "WindDir9am                    10566\n",
              "WindDir3pm                     4228\n",
              "WindSpeed9am                   1767\n",
              "WindSpeed3pm                   3062\n",
              "Humidity9am                    2654\n",
              "Humidity3pm                    4507\n",
              "Pressure9am                   15065\n",
              "Pressure3pm                   15028\n",
              "Cloud9am                      55888\n",
              "Cloud3pm                      59358\n",
              "Temp9am                        1767\n",
              "Temp3pm                        3609\n",
              "RainToday                      3261\n",
              "RainTomorrow                   3267"
            ]
          },
          "execution_count": 36,
          "metadata": {},
          "output_type": "execute_result"
        }
      ],
      "source": [
        "# I.2.1 Nilai hilang (missing) dari setiap fitur \n",
        "\n",
        "missing_value = df.isnull().sum()\n",
        "missing_value = missing_value.to_frame()\n",
        "missing_value.columns = ['jumlah missing value']\n",
        "missing_value"
      ]
    },
    {
      "cell_type": "code",
      "execution_count": 37,
      "metadata": {
        "colab": {
          "base_uri": "https://localhost:8080/",
          "height": 770
        },
        "id": "J2c84luwJp3G",
        "outputId": "9e9a7cfc-02f8-41ab-da3e-2a2a71992b5c"
      },
      "outputs": [
        {
          "data": {
            "text/html": [
              "<div>\n",
              "<style scoped>\n",
              "    .dataframe tbody tr th:only-of-type {\n",
              "        vertical-align: middle;\n",
              "    }\n",
              "\n",
              "    .dataframe tbody tr th {\n",
              "        vertical-align: top;\n",
              "    }\n",
              "\n",
              "    .dataframe thead th {\n",
              "        text-align: right;\n",
              "    }\n",
              "</style>\n",
              "<table border=\"1\" class=\"dataframe\">\n",
              "  <thead>\n",
              "    <tr style=\"text-align: right;\">\n",
              "      <th></th>\n",
              "      <th>Fitur</th>\n",
              "      <th>Jumlah nilai pencilan</th>\n",
              "      <th>Upper bound</th>\n",
              "      <th>Lower bound</th>\n",
              "      <th>Nilai pencilan</th>\n",
              "    </tr>\n",
              "  </thead>\n",
              "  <tbody>\n",
              "    <tr>\n",
              "      <th>0</th>\n",
              "      <td>Date</td>\n",
              "      <td>0</td>\n",
              "      <td>None</td>\n",
              "      <td>2.5</td>\n",
              "      <td>None</td>\n",
              "    </tr>\n",
              "    <tr>\n",
              "      <th>1</th>\n",
              "      <td>Location</td>\n",
              "      <td>0</td>\n",
              "      <td>None</td>\n",
              "      <td>2.5</td>\n",
              "      <td>None</td>\n",
              "    </tr>\n",
              "    <tr>\n",
              "      <th>2</th>\n",
              "      <td>MinTemp</td>\n",
              "      <td>54</td>\n",
              "      <td>30.85</td>\n",
              "      <td>-6.35</td>\n",
              "      <td>None</td>\n",
              "    </tr>\n",
              "    <tr>\n",
              "      <th>3</th>\n",
              "      <td>MaxTemp</td>\n",
              "      <td>489</td>\n",
              "      <td>43.65</td>\n",
              "      <td>2.45</td>\n",
              "      <td>None</td>\n",
              "    </tr>\n",
              "    <tr>\n",
              "      <th>4</th>\n",
              "      <td>Rainfall</td>\n",
              "      <td>25578</td>\n",
              "      <td>2.0</td>\n",
              "      <td>-1.2</td>\n",
              "      <td>None</td>\n",
              "    </tr>\n",
              "    <tr>\n",
              "      <th>5</th>\n",
              "      <td>Evaporation</td>\n",
              "      <td>1995</td>\n",
              "      <td>14.6</td>\n",
              "      <td>-4.6</td>\n",
              "      <td>None</td>\n",
              "    </tr>\n",
              "    <tr>\n",
              "      <th>6</th>\n",
              "      <td>Sunshine</td>\n",
              "      <td>0</td>\n",
              "      <td>19.3</td>\n",
              "      <td>-3.9</td>\n",
              "      <td>None</td>\n",
              "    </tr>\n",
              "    <tr>\n",
              "      <th>7</th>\n",
              "      <td>WindGustDir</td>\n",
              "      <td>0</td>\n",
              "      <td>None</td>\n",
              "      <td>2.5</td>\n",
              "      <td>None</td>\n",
              "    </tr>\n",
              "    <tr>\n",
              "      <th>8</th>\n",
              "      <td>WindGustSpeed</td>\n",
              "      <td>3092</td>\n",
              "      <td>73.5</td>\n",
              "      <td>5.5</td>\n",
              "      <td>None</td>\n",
              "    </tr>\n",
              "    <tr>\n",
              "      <th>9</th>\n",
              "      <td>WindDir9am</td>\n",
              "      <td>1</td>\n",
              "      <td>None</td>\n",
              "      <td>2.5</td>\n",
              "      <td>N</td>\n",
              "    </tr>\n",
              "    <tr>\n",
              "      <th>10</th>\n",
              "      <td>WindDir3pm</td>\n",
              "      <td>0</td>\n",
              "      <td>None</td>\n",
              "      <td>2.5</td>\n",
              "      <td>None</td>\n",
              "    </tr>\n",
              "    <tr>\n",
              "      <th>11</th>\n",
              "      <td>WindSpeed9am</td>\n",
              "      <td>1817</td>\n",
              "      <td>37.0</td>\n",
              "      <td>-11.0</td>\n",
              "      <td>None</td>\n",
              "    </tr>\n",
              "    <tr>\n",
              "      <th>12</th>\n",
              "      <td>WindSpeed3pm</td>\n",
              "      <td>2523</td>\n",
              "      <td>40.5</td>\n",
              "      <td>-3.5</td>\n",
              "      <td>None</td>\n",
              "    </tr>\n",
              "    <tr>\n",
              "      <th>13</th>\n",
              "      <td>Humidity9am</td>\n",
              "      <td>1425</td>\n",
              "      <td>122.0</td>\n",
              "      <td>18.0</td>\n",
              "      <td>None</td>\n",
              "    </tr>\n",
              "    <tr>\n",
              "      <th>14</th>\n",
              "      <td>Humidity3pm</td>\n",
              "      <td>0</td>\n",
              "      <td>109.5</td>\n",
              "      <td>-6.5</td>\n",
              "      <td>None</td>\n",
              "    </tr>\n",
              "    <tr>\n",
              "      <th>15</th>\n",
              "      <td>Pressure9am</td>\n",
              "      <td>1191</td>\n",
              "      <td>1036.65</td>\n",
              "      <td>998.65</td>\n",
              "      <td>None</td>\n",
              "    </tr>\n",
              "    <tr>\n",
              "      <th>16</th>\n",
              "      <td>Pressure3pm</td>\n",
              "      <td>919</td>\n",
              "      <td>1034.4</td>\n",
              "      <td>996.0</td>\n",
              "      <td>None</td>\n",
              "    </tr>\n",
              "    <tr>\n",
              "      <th>17</th>\n",
              "      <td>Cloud9am</td>\n",
              "      <td>0</td>\n",
              "      <td>16.0</td>\n",
              "      <td>-8.0</td>\n",
              "      <td>None</td>\n",
              "    </tr>\n",
              "    <tr>\n",
              "      <th>18</th>\n",
              "      <td>Cloud3pm</td>\n",
              "      <td>0</td>\n",
              "      <td>14.5</td>\n",
              "      <td>-5.5</td>\n",
              "      <td>None</td>\n",
              "    </tr>\n",
              "    <tr>\n",
              "      <th>19</th>\n",
              "      <td>Temp9am</td>\n",
              "      <td>262</td>\n",
              "      <td>35.55</td>\n",
              "      <td>-1.65</td>\n",
              "      <td>None</td>\n",
              "    </tr>\n",
              "    <tr>\n",
              "      <th>20</th>\n",
              "      <td>Temp3pm</td>\n",
              "      <td>764</td>\n",
              "      <td>41.1</td>\n",
              "      <td>1.9</td>\n",
              "      <td>None</td>\n",
              "    </tr>\n",
              "    <tr>\n",
              "      <th>21</th>\n",
              "      <td>RainToday</td>\n",
              "      <td>0</td>\n",
              "      <td>None</td>\n",
              "      <td>2.5</td>\n",
              "      <td>None</td>\n",
              "    </tr>\n",
              "    <tr>\n",
              "      <th>22</th>\n",
              "      <td>RainTomorrow</td>\n",
              "      <td>0</td>\n",
              "      <td>None</td>\n",
              "      <td>2.5</td>\n",
              "      <td>None</td>\n",
              "    </tr>\n",
              "  </tbody>\n",
              "</table>\n",
              "</div>"
            ],
            "text/plain": [
              "            Fitur Jumlah nilai pencilan Upper bound Lower bound Nilai pencilan\n",
              "0            Date                     0        None         2.5           None\n",
              "1        Location                     0        None         2.5           None\n",
              "2         MinTemp                    54       30.85       -6.35           None\n",
              "3         MaxTemp                   489       43.65        2.45           None\n",
              "4        Rainfall                 25578         2.0        -1.2           None\n",
              "5     Evaporation                  1995        14.6        -4.6           None\n",
              "6        Sunshine                     0        19.3        -3.9           None\n",
              "7     WindGustDir                     0        None         2.5           None\n",
              "8   WindGustSpeed                  3092        73.5         5.5           None\n",
              "9      WindDir9am                     1        None         2.5              N\n",
              "10     WindDir3pm                     0        None         2.5           None\n",
              "11   WindSpeed9am                  1817        37.0       -11.0           None\n",
              "12   WindSpeed3pm                  2523        40.5        -3.5           None\n",
              "13    Humidity9am                  1425       122.0        18.0           None\n",
              "14    Humidity3pm                     0       109.5        -6.5           None\n",
              "15    Pressure9am                  1191     1036.65      998.65           None\n",
              "16    Pressure3pm                   919      1034.4       996.0           None\n",
              "17       Cloud9am                     0        16.0        -8.0           None\n",
              "18       Cloud3pm                     0        14.5        -5.5           None\n",
              "19        Temp9am                   262       35.55       -1.65           None\n",
              "20        Temp3pm                   764        41.1         1.9           None\n",
              "21      RainToday                     0        None         2.5           None\n",
              "22   RainTomorrow                     0        None         2.5           None"
            ]
          },
          "execution_count": 37,
          "metadata": {},
          "output_type": "execute_result"
        }
      ],
      "source": [
        "'''\n",
        "I.2.2 Nilai pencilan (outlier) dari setiap fitur \n",
        "\n",
        "Proses pencarian nilai pencilan dari setiap fitur menggunakan metode IQR untuk fitur\n",
        "yang memiliki tipe data numerical dan menggunakan metode frequency distribution untuk \n",
        "fitur yang memiliki tipe data kategorikal.\n",
        "Data yang dianggap pencilan untuk fitur yang memiliki tipe numerical adalah data yang \n",
        "berada di luar rentang Q1 - 1.5*IQR dan Q3 + 1.5*IQR dengan IQR = Q3 - Q1.\n",
        "Data yang dianggap pencilan untuk fitur yang memiliki tipe kategorikal adalah data yang\n",
        "frekuensi z-scorenya lebih dari 2.5.\n",
        "\n",
        "'''\n",
        "\n",
        "def IQR_outlier(data, col):\n",
        "    \n",
        "    # Nilai Q1 dan Q3\n",
        "    Q1 = data[col].quantile(0.25)\n",
        "    Q3 = data[col].quantile(0.75)\n",
        "    # Nilai IQR\n",
        "    IQR = Q3 - Q1\n",
        "    # Lower bound dan upper bound\n",
        "    lower_bound = Q1 - 1.5 * IQR\n",
        "    upper_bound = Q3 + 1.5 * IQR\n",
        "    # Nilai outlier\n",
        "    outlier = data[(data[col] < lower_bound) | (data[col] > upper_bound)]\n",
        "    return outlier, lower_bound, upper_bound\n",
        "\n",
        "# Nilai pencilan dari setiap fitur\n",
        "outliers_data = pd.DataFrame(columns = ['Fitur', 'Jumlah nilai pencilan', 'Upper bound', 'Lower bound', 'Nilai pencilan'])\n",
        "\n",
        "for col in df.columns:\n",
        "    if df[col].dtype == 'float64' or df[col].dtype == 'int64':\n",
        "        outliers, lower_bound, upper_bound = IQR_outlier(df, col)\n",
        "        if len(outliers) > 0:\n",
        "            res = pd.DataFrame({'Fitur':[col], 'Jumlah nilai pencilan':[len(outliers)], 'Upper bound':[upper_bound], 'Lower bound':[lower_bound], 'Nilai pencilan':None})\n",
        "            outliers_data = pd.concat([outliers_data, res])\n",
        "        else:\n",
        "            res = pd.DataFrame({'Fitur':[col], 'Jumlah nilai pencilan':[len(outliers)], 'Upper bound':[upper_bound], 'Lower bound':[lower_bound], 'Nilai pencilan':None})\n",
        "            outliers_data = pd.concat([outliers_data, res])\n",
        "    else:\n",
        "        # Nilai frekuensi dari setiap nilai kategorikal\n",
        "        freq = df[col].value_counts()\n",
        "        # Nilai z-score dari setiap nilai kategorikal\n",
        "        z = zscore.zscore(freq)\n",
        "        # Nilai pencilan\n",
        "        outliers = freq[z > 2.5]\n",
        "        if len(outliers) > 0:\n",
        "            res = pd.DataFrame({'Fitur':[col], 'Jumlah nilai pencilan':[len(outliers)], 'Upper bound':None, 'Lower bound':[2.5], 'Nilai pencilan':outliers.index.tolist()}, index = [0])\n",
        "            outliers_data = pd.concat([outliers_data, res])\n",
        "        else:\n",
        "            res = pd.DataFrame({'Fitur':[col], 'Jumlah nilai pencilan':[len(outliers)], 'Upper bound':None, 'Lower bound':[2.5], 'Nilai pencilan':None}, index = [0])\n",
        "            outliers_data = pd.concat([outliers_data, res])\n",
        "outliers_data = outliers_data.reset_index(drop = True)\n",
        "outliers_data\n",
        "\n",
        "# Untuk fitur dengan tipe data numerical, value dari nilai pencilan tidak ditambahkan di data frame, karena nilai tersebut\n",
        "# terlalu banyak sehingga tidak dapat ditampilkan. Untuk fitur dengan tipe data kategorikal, value dari nilai pencilan terdapat pada kolom\n",
        "# nilai pencilan."
      ]
    },
    {
      "cell_type": "markdown",
      "metadata": {
        "id": "8tUGStQ_wR4P"
      },
      "source": [
        "## I.3\n",
        "Lakukan:\n",
        "1. Pencarian korelasi antarfitur\n",
        "2. Visualisasi distribusi setiap fitur (kategorikal dan kontinu)\n",
        "3. Visualisasi distribusi setiap fitur per target (`RainTomorrow`)"
      ]
    },
    {
      "cell_type": "markdown",
      "metadata": {
        "id": "uj7DW4fjJp3K"
      },
      "source": [
        "### I.3.1\n",
        "\n",
        "Pencarian korelasi antarfitur"
      ]
    },
    {
      "cell_type": "code",
      "execution_count": 38,
      "metadata": {
        "colab": {
          "base_uri": "https://localhost:8080/",
          "height": 615
        },
        "id": "XoBqyQA1wRNX",
        "outputId": "ddb4b67c-f501-4bea-f7e2-3f58c39ea903",
        "scrolled": false
      },
      "outputs": [
        {
          "data": {
            "text/html": [
              "<div>\n",
              "<style scoped>\n",
              "    .dataframe tbody tr th:only-of-type {\n",
              "        vertical-align: middle;\n",
              "    }\n",
              "\n",
              "    .dataframe tbody tr th {\n",
              "        vertical-align: top;\n",
              "    }\n",
              "\n",
              "    .dataframe thead th {\n",
              "        text-align: right;\n",
              "    }\n",
              "</style>\n",
              "<table border=\"1\" class=\"dataframe\">\n",
              "  <thead>\n",
              "    <tr style=\"text-align: right;\">\n",
              "      <th></th>\n",
              "      <th>MinTemp</th>\n",
              "      <th>MaxTemp</th>\n",
              "      <th>Rainfall</th>\n",
              "      <th>Evaporation</th>\n",
              "      <th>Sunshine</th>\n",
              "      <th>WindGustSpeed</th>\n",
              "      <th>WindSpeed9am</th>\n",
              "      <th>WindSpeed3pm</th>\n",
              "      <th>Humidity9am</th>\n",
              "      <th>Humidity3pm</th>\n",
              "      <th>Pressure9am</th>\n",
              "      <th>Pressure3pm</th>\n",
              "      <th>Cloud9am</th>\n",
              "      <th>Cloud3pm</th>\n",
              "      <th>Temp9am</th>\n",
              "      <th>Temp3pm</th>\n",
              "    </tr>\n",
              "  </thead>\n",
              "  <tbody>\n",
              "    <tr>\n",
              "      <th>MinTemp</th>\n",
              "      <td>1.000000</td>\n",
              "      <td>0.736555</td>\n",
              "      <td>0.103938</td>\n",
              "      <td>0.466993</td>\n",
              "      <td>0.072586</td>\n",
              "      <td>0.177415</td>\n",
              "      <td>0.175064</td>\n",
              "      <td>0.175173</td>\n",
              "      <td>-0.232899</td>\n",
              "      <td>0.006089</td>\n",
              "      <td>-0.450970</td>\n",
              "      <td>-0.461292</td>\n",
              "      <td>0.078754</td>\n",
              "      <td>0.021605</td>\n",
              "      <td>0.901821</td>\n",
              "      <td>0.708906</td>\n",
              "    </tr>\n",
              "    <tr>\n",
              "      <th>MaxTemp</th>\n",
              "      <td>0.736555</td>\n",
              "      <td>1.000000</td>\n",
              "      <td>-0.074992</td>\n",
              "      <td>0.587932</td>\n",
              "      <td>0.470156</td>\n",
              "      <td>0.067615</td>\n",
              "      <td>0.014450</td>\n",
              "      <td>0.050300</td>\n",
              "      <td>-0.504110</td>\n",
              "      <td>-0.508855</td>\n",
              "      <td>-0.332061</td>\n",
              "      <td>-0.427167</td>\n",
              "      <td>-0.289370</td>\n",
              "      <td>-0.277921</td>\n",
              "      <td>0.887210</td>\n",
              "      <td>0.984503</td>\n",
              "    </tr>\n",
              "    <tr>\n",
              "      <th>Rainfall</th>\n",
              "      <td>0.103938</td>\n",
              "      <td>-0.074992</td>\n",
              "      <td>1.000000</td>\n",
              "      <td>-0.064351</td>\n",
              "      <td>-0.227549</td>\n",
              "      <td>0.133659</td>\n",
              "      <td>0.087338</td>\n",
              "      <td>0.057887</td>\n",
              "      <td>0.224405</td>\n",
              "      <td>0.255755</td>\n",
              "      <td>-0.168154</td>\n",
              "      <td>-0.126534</td>\n",
              "      <td>0.198528</td>\n",
              "      <td>0.172403</td>\n",
              "      <td>0.011192</td>\n",
              "      <td>-0.079657</td>\n",
              "    </tr>\n",
              "    <tr>\n",
              "      <th>Evaporation</th>\n",
              "      <td>0.466993</td>\n",
              "      <td>0.587932</td>\n",
              "      <td>-0.064351</td>\n",
              "      <td>1.000000</td>\n",
              "      <td>0.365602</td>\n",
              "      <td>0.203021</td>\n",
              "      <td>0.193084</td>\n",
              "      <td>0.129400</td>\n",
              "      <td>-0.504092</td>\n",
              "      <td>-0.390243</td>\n",
              "      <td>-0.270362</td>\n",
              "      <td>-0.293581</td>\n",
              "      <td>-0.183793</td>\n",
              "      <td>-0.182618</td>\n",
              "      <td>0.545115</td>\n",
              "      <td>0.572893</td>\n",
              "    </tr>\n",
              "    <tr>\n",
              "      <th>Sunshine</th>\n",
              "      <td>0.072586</td>\n",
              "      <td>0.470156</td>\n",
              "      <td>-0.227549</td>\n",
              "      <td>0.365602</td>\n",
              "      <td>1.000000</td>\n",
              "      <td>-0.034750</td>\n",
              "      <td>0.005499</td>\n",
              "      <td>0.053834</td>\n",
              "      <td>-0.490819</td>\n",
              "      <td>-0.629130</td>\n",
              "      <td>0.041970</td>\n",
              "      <td>-0.019719</td>\n",
              "      <td>-0.675323</td>\n",
              "      <td>-0.703930</td>\n",
              "      <td>0.291188</td>\n",
              "      <td>0.490501</td>\n",
              "    </tr>\n",
              "    <tr>\n",
              "      <th>WindGustSpeed</th>\n",
              "      <td>0.177415</td>\n",
              "      <td>0.067615</td>\n",
              "      <td>0.133659</td>\n",
              "      <td>0.203021</td>\n",
              "      <td>-0.034750</td>\n",
              "      <td>1.000000</td>\n",
              "      <td>0.605303</td>\n",
              "      <td>0.686307</td>\n",
              "      <td>-0.215070</td>\n",
              "      <td>-0.026327</td>\n",
              "      <td>-0.458744</td>\n",
              "      <td>-0.413749</td>\n",
              "      <td>0.071736</td>\n",
              "      <td>0.109168</td>\n",
              "      <td>0.150150</td>\n",
              "      <td>0.032748</td>\n",
              "    </tr>\n",
              "    <tr>\n",
              "      <th>WindSpeed9am</th>\n",
              "      <td>0.175064</td>\n",
              "      <td>0.014450</td>\n",
              "      <td>0.087338</td>\n",
              "      <td>0.193084</td>\n",
              "      <td>0.005499</td>\n",
              "      <td>0.605303</td>\n",
              "      <td>1.000000</td>\n",
              "      <td>0.519547</td>\n",
              "      <td>-0.270858</td>\n",
              "      <td>-0.031614</td>\n",
              "      <td>-0.228743</td>\n",
              "      <td>-0.175817</td>\n",
              "      <td>0.025112</td>\n",
              "      <td>0.054639</td>\n",
              "      <td>0.128545</td>\n",
              "      <td>0.004569</td>\n",
              "    </tr>\n",
              "    <tr>\n",
              "      <th>WindSpeed3pm</th>\n",
              "      <td>0.175173</td>\n",
              "      <td>0.050300</td>\n",
              "      <td>0.057887</td>\n",
              "      <td>0.129400</td>\n",
              "      <td>0.053834</td>\n",
              "      <td>0.686307</td>\n",
              "      <td>0.519547</td>\n",
              "      <td>1.000000</td>\n",
              "      <td>-0.145525</td>\n",
              "      <td>0.016432</td>\n",
              "      <td>-0.296351</td>\n",
              "      <td>-0.255439</td>\n",
              "      <td>0.053337</td>\n",
              "      <td>0.025396</td>\n",
              "      <td>0.163030</td>\n",
              "      <td>0.027778</td>\n",
              "    </tr>\n",
              "    <tr>\n",
              "      <th>Humidity9am</th>\n",
              "      <td>-0.232899</td>\n",
              "      <td>-0.504110</td>\n",
              "      <td>0.224405</td>\n",
              "      <td>-0.504092</td>\n",
              "      <td>-0.490819</td>\n",
              "      <td>-0.215070</td>\n",
              "      <td>-0.270858</td>\n",
              "      <td>-0.145525</td>\n",
              "      <td>1.000000</td>\n",
              "      <td>0.666949</td>\n",
              "      <td>0.139442</td>\n",
              "      <td>0.186858</td>\n",
              "      <td>0.452297</td>\n",
              "      <td>0.357326</td>\n",
              "      <td>-0.471354</td>\n",
              "      <td>-0.498399</td>\n",
              "    </tr>\n",
              "    <tr>\n",
              "      <th>Humidity3pm</th>\n",
              "      <td>0.006089</td>\n",
              "      <td>-0.508855</td>\n",
              "      <td>0.255755</td>\n",
              "      <td>-0.390243</td>\n",
              "      <td>-0.629130</td>\n",
              "      <td>-0.026327</td>\n",
              "      <td>-0.031614</td>\n",
              "      <td>0.016432</td>\n",
              "      <td>0.666949</td>\n",
              "      <td>1.000000</td>\n",
              "      <td>-0.027544</td>\n",
              "      <td>0.051997</td>\n",
              "      <td>0.517120</td>\n",
              "      <td>0.523120</td>\n",
              "      <td>-0.221019</td>\n",
              "      <td>-0.557841</td>\n",
              "    </tr>\n",
              "    <tr>\n",
              "      <th>Pressure9am</th>\n",
              "      <td>-0.450970</td>\n",
              "      <td>-0.332061</td>\n",
              "      <td>-0.168154</td>\n",
              "      <td>-0.270362</td>\n",
              "      <td>0.041970</td>\n",
              "      <td>-0.458744</td>\n",
              "      <td>-0.228743</td>\n",
              "      <td>-0.296351</td>\n",
              "      <td>0.139442</td>\n",
              "      <td>-0.027544</td>\n",
              "      <td>1.000000</td>\n",
              "      <td>0.961326</td>\n",
              "      <td>-0.129796</td>\n",
              "      <td>-0.147861</td>\n",
              "      <td>-0.422556</td>\n",
              "      <td>-0.286770</td>\n",
              "    </tr>\n",
              "    <tr>\n",
              "      <th>Pressure3pm</th>\n",
              "      <td>-0.461292</td>\n",
              "      <td>-0.427167</td>\n",
              "      <td>-0.126534</td>\n",
              "      <td>-0.293581</td>\n",
              "      <td>-0.019719</td>\n",
              "      <td>-0.413749</td>\n",
              "      <td>-0.175817</td>\n",
              "      <td>-0.255439</td>\n",
              "      <td>0.186858</td>\n",
              "      <td>0.051997</td>\n",
              "      <td>0.961326</td>\n",
              "      <td>1.000000</td>\n",
              "      <td>-0.060772</td>\n",
              "      <td>-0.084778</td>\n",
              "      <td>-0.470187</td>\n",
              "      <td>-0.389548</td>\n",
              "    </tr>\n",
              "    <tr>\n",
              "      <th>Cloud9am</th>\n",
              "      <td>0.078754</td>\n",
              "      <td>-0.289370</td>\n",
              "      <td>0.198528</td>\n",
              "      <td>-0.183793</td>\n",
              "      <td>-0.675323</td>\n",
              "      <td>0.071736</td>\n",
              "      <td>0.025112</td>\n",
              "      <td>0.053337</td>\n",
              "      <td>0.452297</td>\n",
              "      <td>0.517120</td>\n",
              "      <td>-0.129796</td>\n",
              "      <td>-0.060772</td>\n",
              "      <td>1.000000</td>\n",
              "      <td>0.603564</td>\n",
              "      <td>-0.136959</td>\n",
              "      <td>-0.302060</td>\n",
              "    </tr>\n",
              "    <tr>\n",
              "      <th>Cloud3pm</th>\n",
              "      <td>0.021605</td>\n",
              "      <td>-0.277921</td>\n",
              "      <td>0.172403</td>\n",
              "      <td>-0.182618</td>\n",
              "      <td>-0.703930</td>\n",
              "      <td>0.109168</td>\n",
              "      <td>0.054639</td>\n",
              "      <td>0.025396</td>\n",
              "      <td>0.357326</td>\n",
              "      <td>0.523120</td>\n",
              "      <td>-0.147861</td>\n",
              "      <td>-0.084778</td>\n",
              "      <td>0.603564</td>\n",
              "      <td>1.000000</td>\n",
              "      <td>-0.126659</td>\n",
              "      <td>-0.317420</td>\n",
              "    </tr>\n",
              "    <tr>\n",
              "      <th>Temp9am</th>\n",
              "      <td>0.901821</td>\n",
              "      <td>0.887210</td>\n",
              "      <td>0.011192</td>\n",
              "      <td>0.545115</td>\n",
              "      <td>0.291188</td>\n",
              "      <td>0.150150</td>\n",
              "      <td>0.128545</td>\n",
              "      <td>0.163030</td>\n",
              "      <td>-0.471354</td>\n",
              "      <td>-0.221019</td>\n",
              "      <td>-0.422556</td>\n",
              "      <td>-0.470187</td>\n",
              "      <td>-0.136959</td>\n",
              "      <td>-0.126659</td>\n",
              "      <td>1.000000</td>\n",
              "      <td>0.860591</td>\n",
              "    </tr>\n",
              "    <tr>\n",
              "      <th>Temp3pm</th>\n",
              "      <td>0.708906</td>\n",
              "      <td>0.984503</td>\n",
              "      <td>-0.079657</td>\n",
              "      <td>0.572893</td>\n",
              "      <td>0.490501</td>\n",
              "      <td>0.032748</td>\n",
              "      <td>0.004569</td>\n",
              "      <td>0.027778</td>\n",
              "      <td>-0.498399</td>\n",
              "      <td>-0.557841</td>\n",
              "      <td>-0.286770</td>\n",
              "      <td>-0.389548</td>\n",
              "      <td>-0.302060</td>\n",
              "      <td>-0.317420</td>\n",
              "      <td>0.860591</td>\n",
              "      <td>1.000000</td>\n",
              "    </tr>\n",
              "  </tbody>\n",
              "</table>\n",
              "</div>"
            ],
            "text/plain": [
              "                MinTemp   MaxTemp  Rainfall  Evaporation  Sunshine  \\\n",
              "MinTemp        1.000000  0.736555  0.103938     0.466993  0.072586   \n",
              "MaxTemp        0.736555  1.000000 -0.074992     0.587932  0.470156   \n",
              "Rainfall       0.103938 -0.074992  1.000000    -0.064351 -0.227549   \n",
              "Evaporation    0.466993  0.587932 -0.064351     1.000000  0.365602   \n",
              "Sunshine       0.072586  0.470156 -0.227549     0.365602  1.000000   \n",
              "WindGustSpeed  0.177415  0.067615  0.133659     0.203021 -0.034750   \n",
              "WindSpeed9am   0.175064  0.014450  0.087338     0.193084  0.005499   \n",
              "WindSpeed3pm   0.175173  0.050300  0.057887     0.129400  0.053834   \n",
              "Humidity9am   -0.232899 -0.504110  0.224405    -0.504092 -0.490819   \n",
              "Humidity3pm    0.006089 -0.508855  0.255755    -0.390243 -0.629130   \n",
              "Pressure9am   -0.450970 -0.332061 -0.168154    -0.270362  0.041970   \n",
              "Pressure3pm   -0.461292 -0.427167 -0.126534    -0.293581 -0.019719   \n",
              "Cloud9am       0.078754 -0.289370  0.198528    -0.183793 -0.675323   \n",
              "Cloud3pm       0.021605 -0.277921  0.172403    -0.182618 -0.703930   \n",
              "Temp9am        0.901821  0.887210  0.011192     0.545115  0.291188   \n",
              "Temp3pm        0.708906  0.984503 -0.079657     0.572893  0.490501   \n",
              "\n",
              "               WindGustSpeed  WindSpeed9am  WindSpeed3pm  Humidity9am  \\\n",
              "MinTemp             0.177415      0.175064      0.175173    -0.232899   \n",
              "MaxTemp             0.067615      0.014450      0.050300    -0.504110   \n",
              "Rainfall            0.133659      0.087338      0.057887     0.224405   \n",
              "Evaporation         0.203021      0.193084      0.129400    -0.504092   \n",
              "Sunshine           -0.034750      0.005499      0.053834    -0.490819   \n",
              "WindGustSpeed       1.000000      0.605303      0.686307    -0.215070   \n",
              "WindSpeed9am        0.605303      1.000000      0.519547    -0.270858   \n",
              "WindSpeed3pm        0.686307      0.519547      1.000000    -0.145525   \n",
              "Humidity9am        -0.215070     -0.270858     -0.145525     1.000000   \n",
              "Humidity3pm        -0.026327     -0.031614      0.016432     0.666949   \n",
              "Pressure9am        -0.458744     -0.228743     -0.296351     0.139442   \n",
              "Pressure3pm        -0.413749     -0.175817     -0.255439     0.186858   \n",
              "Cloud9am            0.071736      0.025112      0.053337     0.452297   \n",
              "Cloud3pm            0.109168      0.054639      0.025396     0.357326   \n",
              "Temp9am             0.150150      0.128545      0.163030    -0.471354   \n",
              "Temp3pm             0.032748      0.004569      0.027778    -0.498399   \n",
              "\n",
              "               Humidity3pm  Pressure9am  Pressure3pm  Cloud9am  Cloud3pm  \\\n",
              "MinTemp           0.006089    -0.450970    -0.461292  0.078754  0.021605   \n",
              "MaxTemp          -0.508855    -0.332061    -0.427167 -0.289370 -0.277921   \n",
              "Rainfall          0.255755    -0.168154    -0.126534  0.198528  0.172403   \n",
              "Evaporation      -0.390243    -0.270362    -0.293581 -0.183793 -0.182618   \n",
              "Sunshine         -0.629130     0.041970    -0.019719 -0.675323 -0.703930   \n",
              "WindGustSpeed    -0.026327    -0.458744    -0.413749  0.071736  0.109168   \n",
              "WindSpeed9am     -0.031614    -0.228743    -0.175817  0.025112  0.054639   \n",
              "WindSpeed3pm      0.016432    -0.296351    -0.255439  0.053337  0.025396   \n",
              "Humidity9am       0.666949     0.139442     0.186858  0.452297  0.357326   \n",
              "Humidity3pm       1.000000    -0.027544     0.051997  0.517120  0.523120   \n",
              "Pressure9am      -0.027544     1.000000     0.961326 -0.129796 -0.147861   \n",
              "Pressure3pm       0.051997     0.961326     1.000000 -0.060772 -0.084778   \n",
              "Cloud9am          0.517120    -0.129796    -0.060772  1.000000  0.603564   \n",
              "Cloud3pm          0.523120    -0.147861    -0.084778  0.603564  1.000000   \n",
              "Temp9am          -0.221019    -0.422556    -0.470187 -0.136959 -0.126659   \n",
              "Temp3pm          -0.557841    -0.286770    -0.389548 -0.302060 -0.317420   \n",
              "\n",
              "                Temp9am   Temp3pm  \n",
              "MinTemp        0.901821  0.708906  \n",
              "MaxTemp        0.887210  0.984503  \n",
              "Rainfall       0.011192 -0.079657  \n",
              "Evaporation    0.545115  0.572893  \n",
              "Sunshine       0.291188  0.490501  \n",
              "WindGustSpeed  0.150150  0.032748  \n",
              "WindSpeed9am   0.128545  0.004569  \n",
              "WindSpeed3pm   0.163030  0.027778  \n",
              "Humidity9am   -0.471354 -0.498399  \n",
              "Humidity3pm   -0.221019 -0.557841  \n",
              "Pressure9am   -0.422556 -0.286770  \n",
              "Pressure3pm   -0.470187 -0.389548  \n",
              "Cloud9am      -0.136959 -0.302060  \n",
              "Cloud3pm      -0.126659 -0.317420  \n",
              "Temp9am        1.000000  0.860591  \n",
              "Temp3pm        0.860591  1.000000  "
            ]
          },
          "execution_count": 38,
          "metadata": {},
          "output_type": "execute_result"
        }
      ],
      "source": [
        "# I.3 Kode di sini.\n",
        "df[noncategorical_features].corr()"
      ]
    },
    {
      "cell_type": "markdown",
      "metadata": {
        "id": "zo4cenyDJp3P"
      },
      "source": [
        "### I.3.2\n",
        "\n",
        "Visualisasi distribusi setiap fitur (kategorikal dan kontinu)"
      ]
    },
    {
      "cell_type": "code",
      "execution_count": 39,
      "metadata": {
        "id": "aBBsJw7zJp3Q"
      },
      "outputs": [],
      "source": [
        "# Ubah kolom tanggal dari string ke Datetime\n",
        "df_clean_date = df.copy(deep=True)\n",
        "df_clean_date['Date'] = pd.to_datetime(df_clean_date['Date'])"
      ]
    },
    {
      "cell_type": "code",
      "execution_count": 40,
      "metadata": {
        "colab": {
          "base_uri": "https://localhost:8080/",
          "height": 1000
        },
        "id": "uuxRHksKJp3S",
        "outputId": "1a481848-629f-4c0a-acd9-bfd1db131356",
        "scrolled": true
      },
      "outputs": [
        {
          "data": {
            "image/png": "[encoded data removed]",
            "text/plain": [
              "<Figure size 432x288 with 1 Axes>"
            ]
          },
          "metadata": {
            "needs_background": "light"
          },
          "output_type": "display_data"
        },
        {
          "data": {
            "image/png": "[encoded data removed]",
            "text/plain": [
              "<Figure size 432x288 with 1 Axes>"
            ]
          },
          "metadata": {
            "needs_background": "light"
          },
          "output_type": "display_data"
        },
        {
          "data": {
            "image/png": "[encoded data removed]",
            "text/plain": [
              "<Figure size 432x288 with 1 Axes>"
            ]
          },
          "metadata": {
            "needs_background": "light"
          },
          "output_type": "display_data"
        },
        {
          "data": {
            "image/png": "[encoded data removed]",
            "text/plain": [
              "<Figure size 432x288 with 1 Axes>"
            ]
          },
          "metadata": {
            "needs_background": "light"
          },
          "output_type": "display_data"
        },
        {
          "data": {
            "image/png": "[encoded data removed]",
            "text/plain": [
              "<Figure size 432x288 with 1 Axes>"
            ]
          },
          "metadata": {
            "needs_background": "light"
          },
          "output_type": "display_data"
        },
        {
          "data": {
            "image/png": "[encoded data removed]",
            "text/plain": [
              "<Figure size 432x288 with 1 Axes>"
            ]
          },
          "metadata": {
            "needs_background": "light"
          },
          "output_type": "display_data"
        },
        {
          "data": {
            "image/png": "[encoded data removed]",
            "text/plain": [
              "<Figure size 432x288 with 1 Axes>"
            ]
          },
          "metadata": {
            "needs_background": "light"
          },
          "output_type": "display_data"
        },
        {
          "data": {
            "image/png": "[encoded data removed]",
            "text/plain": [
              "<Figure size 432x288 with 1 Axes>"
            ]
          },
          "metadata": {
            "needs_background": "light"
          },
          "output_type": "display_data"
        },
        {
          "data": {
            "image/png": "[encoded data removed]",
            "text/plain": [
              "<Figure size 432x288 with 1 Axes>"
            ]
          },
          "metadata": {
            "needs_background": "light"
          },
          "output_type": "display_data"
        },
        {
          "data": {
            "image/png": "[encoded data removed]",
            "text/plain": [
              "<Figure size 432x288 with 1 Axes>"
            ]
          },
          "metadata": {
            "needs_background": "light"
          },
          "output_type": "display_data"
        },
        {
          "data": {
            "image/png": "[encoded data removed]",
            "text/plain": [
              "<Figure size 432x288 with 1 Axes>"
            ]
          },
          "metadata": {
            "needs_background": "light"
          },
          "output_type": "display_data"
        },
        {
          "data": {
            "image/png": "[encoded data removed]",
            "text/plain": [
              "<Figure size 432x288 with 1 Axes>"
            ]
          },
          "metadata": {
            "needs_background": "light"
          },
          "output_type": "display_data"
        },
        {
          "data": {
            "image/png": "[encoded data removed]",
            "text/plain": [
              "<Figure size 432x288 with 1 Axes>"
            ]
          },
          "metadata": {
            "needs_background": "light"
          },
          "output_type": "display_data"
        },
        {
          "data": {
            "image/png": "[encoded data removed]",
            "text/plain": [
              "<Figure size 432x288 with 1 Axes>"
            ]
          },
          "metadata": {
            "needs_background": "light"
          },
          "output_type": "display_data"
        },
        {
          "data": {
            "image/png": "[encoded data removed]",
            "text/plain": [
              "<Figure size 432x288 with 1 Axes>"
            ]
          },
          "metadata": {
            "needs_background": "light"
          },
          "output_type": "display_data"
        },
        {
          "data": {
            "image/png": "[encoded data removed]",
            "text/plain": [
              "<Figure size 432x288 with 1 Axes>"
            ]
          },
          "metadata": {
            "needs_background": "light"
          },
          "output_type": "display_data"
        },
        {
          "data": {
            "image/png": "[encoded data removed]",
            "text/plain": [
              "<Figure size 432x288 with 1 Axes>"
            ]
          },
          "metadata": {
            "needs_background": "light"
          },
          "output_type": "display_data"
        },
        {
          "data": {
            "image/png": "[encoded data removed]",
            "text/plain": [
              "<Figure size 432x288 with 1 Axes>"
            ]
          },
          "metadata": {
            "needs_background": "light"
          },
          "output_type": "display_data"
        },
        {
          "data": {
            "image/png": "[encoded data removed]",
            "text/plain": [
              "<Figure size 432x288 with 1 Axes>"
            ]
          },
          "metadata": {
            "needs_background": "light"
          },
          "output_type": "display_data"
        },
        {
          "data": {
            "image/png": "[encoded data removed]",
            "text/plain": [
              "<Figure size 432x288 with 1 Axes>"
            ]
          },
          "metadata": {
            "needs_background": "light"
          },
          "output_type": "display_data"
        },
        {
          "data": {
            "image/png": "[encoded data removed]",
            "text/plain": [
              "<Figure size 432x288 with 1 Axes>"
            ]
          },
          "metadata": {
            "needs_background": "light"
          },
          "output_type": "display_data"
        },
        {
          "data": {
            "image/png": "[encoded data removed]",
            "text/plain": [
              "<Figure size 432x288 with 1 Axes>"
            ]
          },
          "metadata": {
            "needs_background": "light"
          },
          "output_type": "display_data"
        },
        {
          "data": {
            "image/png": "[encoded data removed]",
            "text/plain": [
              "<Figure size 432x288 with 1 Axes>"
            ]
          },
          "metadata": {
            "needs_background": "light"
          },
          "output_type": "display_data"
        }
      ],
      "source": [
        "for col in df_clean_date.columns:\n",
        "    if df_clean_date[col].dtype == 'object':\n",
        "        df_clean_date[col].value_counts().plot(kind='bar')\n",
        "    else:\n",
        "        df_clean_date[col].hist()\n",
        "    plt.title(col)\n",
        "    plt.show()"
      ]
    },
    {
      "cell_type": "markdown",
      "metadata": {
        "id": "OxM5zgMpJp3T"
      },
      "source": [
        "### I.3.3\n",
        "\n",
        "Visualisasi distribusi setiap fitur per target (`RainTomorrow`)"
      ]
    },
    {
      "cell_type": "code",
      "execution_count": 41,
      "metadata": {
        "colab": {
          "base_uri": "https://localhost:8080/",
          "height": 1000
        },
        "id": "99dIqhg4Jp3U",
        "outputId": "08528800-cbb7-4008-c41c-312998ddf048"
      },
      "outputs": [
        {
          "data": {
            "image/png": "[encoded data removed]",
            "text/plain": [
              "<Figure size 576x9504 with 22 Axes>"
            ]
          },
          "metadata": {
            "needs_background": "light"
          },
          "output_type": "display_data"
        }
      ],
      "source": [
        "# create subplots\n",
        "fig, axes = plt.subplots(nrows=len(df_clean_date.columns) - 1, ncols=1, figsize=(8, (len(df_clean_date.columns) - 1) * 6))\n",
        "# loop over the columns\n",
        "for i, col in enumerate(df_clean_date.columns):\n",
        "    if col == 'RainTomorrow':\n",
        "        continue\n",
        "    elif df_clean_date[col].dtype == 'object':\n",
        "        # categorical column - use bar chart\n",
        "        df_clean_date[df_clean_date['RainTomorrow'] == 'No'][col].value_counts().plot.bar(ax=axes[i], label='No Rain Tomorrow', color='tab:blue')\n",
        "        df_clean_date[df_clean_date['RainTomorrow'] == 'Yes'][col].value_counts().plot.bar(ax=axes[i], label='Rain Tomorrow', color='tab:orange')\n",
        "        axes[i].set_title(col)\n",
        "        axes[i].legend()\n",
        "    elif df_clean_date[col].dtype == 'datetime64[ns]':\n",
        "        no_date = df_clean_date[df_clean_date['RainTomorrow'] == 'No'][['Date', 'RainTomorrow']]\n",
        "        no_date.groupby(no_date[\"Date\"].dt.year).count()['RainTomorrow'].plot(kind='line', label='No Rain Tomorrow', ax=axes[i], legend=True, color='tab:blue')\n",
        "        yes_date = df_clean_date[df_clean_date['RainTomorrow'] == 'Yes'][['Date', 'RainTomorrow']]\n",
        "        yes_date.groupby(yes_date[\"Date\"].dt.year).count()['RainTomorrow'].plot(kind='line', label='Rain Tomorrow', ax=axes[i], legend=True, color='tab:orange')\n",
        "        axes[i].set_title(col)\n",
        "    else:\n",
        "        # non-categorical column - use histogram\n",
        "        df_clean_date[df_clean_date['RainTomorrow'] == 'No'][col].plot.hist(ax=axes[i], label='No Rain Tomorrow', color='tab:blue')\n",
        "        df_clean_date[df_clean_date['RainTomorrow'] == 'Yes'][col].plot.hist(ax=axes[i], label='Rain Tomorrow', color='tab:orange')\n",
        "        axes[i].set_title(col)\n",
        "        axes[i].legend()\n",
        "\n",
        "# show the plot\n",
        "plt.show()"
      ]
    },
    {
      "cell_type": "markdown",
      "metadata": {
        "id": "kV3BDt235mdz"
      },
      "source": [
        "## I.4\n",
        "Lakukanlah analisis lebih lanjut jika diperlukan, kemudian lakukan hal berikut:\n",
        "1. Penambahan fitur jika memungkinkan\n",
        "2. Pembuangan fitur yang menurut kalian tidak dibutuhkan\n",
        "3. Penanganan nilai hilang\n",
        "4. Transformasi data kategorikal menjadi numerikal (_encoding_)\n",
        "5. _Scaling_ dengan `MinMaxScaler`"
      ]
    },
    {
      "cell_type": "markdown",
      "metadata": {
        "id": "vTVEC5QuJp3X"
      },
      "source": [
        "### I.4.1 Penambahan fitur jika memungkinkan\n",
        "\n",
        "Dari hasil analisis data, tidak diperlukan penambahan fitur baru. Data yang ada \n",
        "sudah cukup untuk melakukan prediksi status hujan pada keesokan harinya."
      ]
    },
    {
      "cell_type": "code",
      "execution_count": 42,
      "metadata": {
        "colab": {
          "base_uri": "https://localhost:8080/",
          "height": 299
        },
        "id": "LmImEx7yJp3Y",
        "outputId": "5b775f7f-3426-4a55-882e-afc1f68379fd"
      },
      "outputs": [
        {
          "data": {
            "text/html": [
              "<div>\n",
              "<style scoped>\n",
              "    .dataframe tbody tr th:only-of-type {\n",
              "        vertical-align: middle;\n",
              "    }\n",
              "\n",
              "    .dataframe tbody tr th {\n",
              "        vertical-align: top;\n",
              "    }\n",
              "\n",
              "    .dataframe thead th {\n",
              "        text-align: right;\n",
              "    }\n",
              "</style>\n",
              "<table border=\"1\" class=\"dataframe\">\n",
              "  <thead>\n",
              "    <tr style=\"text-align: right;\">\n",
              "      <th></th>\n",
              "      <th>MinTemp</th>\n",
              "      <th>MaxTemp</th>\n",
              "      <th>Rainfall</th>\n",
              "      <th>Evaporation</th>\n",
              "      <th>Sunshine</th>\n",
              "      <th>WindGustDir</th>\n",
              "      <th>WindGustSpeed</th>\n",
              "      <th>WindDir9am</th>\n",
              "      <th>WindDir3pm</th>\n",
              "      <th>WindSpeed9am</th>\n",
              "      <th>...</th>\n",
              "      <th>Humidity9am</th>\n",
              "      <th>Humidity3pm</th>\n",
              "      <th>Pressure9am</th>\n",
              "      <th>Pressure3pm</th>\n",
              "      <th>Cloud9am</th>\n",
              "      <th>Cloud3pm</th>\n",
              "      <th>Temp9am</th>\n",
              "      <th>Temp3pm</th>\n",
              "      <th>RainToday</th>\n",
              "      <th>RainTomorrow</th>\n",
              "    </tr>\n",
              "  </thead>\n",
              "  <tbody>\n",
              "    <tr>\n",
              "      <th>0</th>\n",
              "      <td>13.4</td>\n",
              "      <td>22.9</td>\n",
              "      <td>0.6</td>\n",
              "      <td>NaN</td>\n",
              "      <td>NaN</td>\n",
              "      <td>W</td>\n",
              "      <td>44.0</td>\n",
              "      <td>W</td>\n",
              "      <td>WNW</td>\n",
              "      <td>20.0</td>\n",
              "      <td>...</td>\n",
              "      <td>71.0</td>\n",
              "      <td>22.0</td>\n",
              "      <td>1007.7</td>\n",
              "      <td>1007.1</td>\n",
              "      <td>8.0</td>\n",
              "      <td>NaN</td>\n",
              "      <td>16.9</td>\n",
              "      <td>21.8</td>\n",
              "      <td>No</td>\n",
              "      <td>No</td>\n",
              "    </tr>\n",
              "    <tr>\n",
              "      <th>1</th>\n",
              "      <td>7.4</td>\n",
              "      <td>25.1</td>\n",
              "      <td>0.0</td>\n",
              "      <td>NaN</td>\n",
              "      <td>NaN</td>\n",
              "      <td>WNW</td>\n",
              "      <td>44.0</td>\n",
              "      <td>NNW</td>\n",
              "      <td>WSW</td>\n",
              "      <td>4.0</td>\n",
              "      <td>...</td>\n",
              "      <td>44.0</td>\n",
              "      <td>25.0</td>\n",
              "      <td>1010.6</td>\n",
              "      <td>1007.8</td>\n",
              "      <td>NaN</td>\n",
              "      <td>NaN</td>\n",
              "      <td>17.2</td>\n",
              "      <td>24.3</td>\n",
              "      <td>No</td>\n",
              "      <td>No</td>\n",
              "    </tr>\n",
              "    <tr>\n",
              "      <th>2</th>\n",
              "      <td>12.9</td>\n",
              "      <td>25.7</td>\n",
              "      <td>0.0</td>\n",
              "      <td>NaN</td>\n",
              "      <td>NaN</td>\n",
              "      <td>WSW</td>\n",
              "      <td>46.0</td>\n",
              "      <td>W</td>\n",
              "      <td>WSW</td>\n",
              "      <td>19.0</td>\n",
              "      <td>...</td>\n",
              "      <td>38.0</td>\n",
              "      <td>30.0</td>\n",
              "      <td>1007.6</td>\n",
              "      <td>1008.7</td>\n",
              "      <td>NaN</td>\n",
              "      <td>2.0</td>\n",
              "      <td>21.0</td>\n",
              "      <td>23.2</td>\n",
              "      <td>No</td>\n",
              "      <td>No</td>\n",
              "    </tr>\n",
              "    <tr>\n",
              "      <th>3</th>\n",
              "      <td>9.2</td>\n",
              "      <td>28.0</td>\n",
              "      <td>0.0</td>\n",
              "      <td>NaN</td>\n",
              "      <td>NaN</td>\n",
              "      <td>NE</td>\n",
              "      <td>24.0</td>\n",
              "      <td>SE</td>\n",
              "      <td>E</td>\n",
              "      <td>11.0</td>\n",
              "      <td>...</td>\n",
              "      <td>45.0</td>\n",
              "      <td>16.0</td>\n",
              "      <td>1017.6</td>\n",
              "      <td>1012.8</td>\n",
              "      <td>NaN</td>\n",
              "      <td>NaN</td>\n",
              "      <td>18.1</td>\n",
              "      <td>26.5</td>\n",
              "      <td>No</td>\n",
              "      <td>No</td>\n",
              "    </tr>\n",
              "    <tr>\n",
              "      <th>4</th>\n",
              "      <td>17.5</td>\n",
              "      <td>32.3</td>\n",
              "      <td>1.0</td>\n",
              "      <td>NaN</td>\n",
              "      <td>NaN</td>\n",
              "      <td>W</td>\n",
              "      <td>41.0</td>\n",
              "      <td>ENE</td>\n",
              "      <td>NW</td>\n",
              "      <td>7.0</td>\n",
              "      <td>...</td>\n",
              "      <td>82.0</td>\n",
              "      <td>33.0</td>\n",
              "      <td>1010.8</td>\n",
              "      <td>1006.0</td>\n",
              "      <td>7.0</td>\n",
              "      <td>8.0</td>\n",
              "      <td>17.8</td>\n",
              "      <td>29.7</td>\n",
              "      <td>No</td>\n",
              "      <td>No</td>\n",
              "    </tr>\n",
              "  </tbody>\n",
              "</table>\n",
              "<p>5 rows × 21 columns</p>\n",
              "</div>"
            ],
            "text/plain": [
              "   MinTemp  MaxTemp  Rainfall  Evaporation  Sunshine WindGustDir  \\\n",
              "0     13.4     22.9       0.6          NaN       NaN           W   \n",
              "1      7.4     25.1       0.0          NaN       NaN         WNW   \n",
              "2     12.9     25.7       0.0          NaN       NaN         WSW   \n",
              "3      9.2     28.0       0.0          NaN       NaN          NE   \n",
              "4     17.5     32.3       1.0          NaN       NaN           W   \n",
              "\n",
              "   WindGustSpeed WindDir9am WindDir3pm  WindSpeed9am  ...  Humidity9am  \\\n",
              "0           44.0          W        WNW          20.0  ...         71.0   \n",
              "1           44.0        NNW        WSW           4.0  ...         44.0   \n",
              "2           46.0          W        WSW          19.0  ...         38.0   \n",
              "3           24.0         SE          E          11.0  ...         45.0   \n",
              "4           41.0        ENE         NW           7.0  ...         82.0   \n",
              "\n",
              "   Humidity3pm  Pressure9am  Pressure3pm  Cloud9am  Cloud3pm  Temp9am  \\\n",
              "0         22.0       1007.7       1007.1       8.0       NaN     16.9   \n",
              "1         25.0       1010.6       1007.8       NaN       NaN     17.2   \n",
              "2         30.0       1007.6       1008.7       NaN       2.0     21.0   \n",
              "3         16.0       1017.6       1012.8       NaN       NaN     18.1   \n",
              "4         33.0       1010.8       1006.0       7.0       8.0     17.8   \n",
              "\n",
              "   Temp3pm  RainToday RainTomorrow  \n",
              "0     21.8         No           No  \n",
              "1     24.3         No           No  \n",
              "2     23.2         No           No  \n",
              "3     26.5         No           No  \n",
              "4     29.7         No           No  \n",
              "\n",
              "[5 rows x 21 columns]"
            ]
          },
          "execution_count": 42,
          "metadata": {},
          "output_type": "execute_result"
        }
      ],
      "source": [
        "'''\n",
        "I.4.2 Pembuangan fitur yang tidak diperlukan\n",
        "\n",
        "Dari hasil analisis data, fitur yang tidak diperlukan adalah fitur 'Date' dan 'Location'.\n",
        "'''\n",
        "\n",
        "# Pembuangan fitur yang tidak diperlukan\n",
        "df.drop(['Date', 'Location'], axis = 1, inplace = True)\n",
        "df.head()"
      ]
    },
    {
      "cell_type": "code",
      "execution_count": 43,
      "metadata": {
        "id": "p-MgduSSJp3a"
      },
      "outputs": [],
      "source": [
        "'''\n",
        "I.4.3 Penanganan nilai hilang (missing)\n",
        "\n",
        "Dari hasil analisis data penangan terhadap nilai hilang dibagi menjadi 2 bagian, yaitu\n",
        "penanganan nilai hilang pada fitur yang memiliki tipe data numerical dan penanganan\n",
        "nilai hilang pada fitur yang memiliki tipe data kategorikal. Untuk penanganan nilai\n",
        "hilang pada fitur yang memiliki tipe data numerical, nilai hilang diisi dengan nilai\n",
        "rata rata dari fitur tersebut. Untuk penanganan nilai hilang pada fitur yang memiliki tipe\n",
        "data kategorikal, nilai hilang diisi dengan nilai modus dari fitur tersebut.\n",
        "'''\n",
        "\n",
        "# Penanganan nilai hilang pada fitur yang memiliki tipe data numerical\n",
        "for col in df.columns:\n",
        "    if df[col].dtype == 'float64' or df[col].dtype == 'int64':\n",
        "        df[col].fillna(df[col].mean(), inplace = True)\n",
        "    else:\n",
        "        df[col].fillna(df[col].mode()[0], inplace = True)"
      ]
    },
    {
      "cell_type": "code",
      "execution_count": 44,
      "metadata": {
        "colab": {
          "base_uri": "https://localhost:8080/",
          "height": 299
        },
        "id": "7TzdwaddJp3b",
        "outputId": "0457301d-54c0-42ee-e8f0-45d6af6b0271"
      },
      "outputs": [
        {
          "data": {
            "text/html": [
              "<div>\n",
              "<style scoped>\n",
              "    .dataframe tbody tr th:only-of-type {\n",
              "        vertical-align: middle;\n",
              "    }\n",
              "\n",
              "    .dataframe tbody tr th {\n",
              "        vertical-align: top;\n",
              "    }\n",
              "\n",
              "    .dataframe thead th {\n",
              "        text-align: right;\n",
              "    }\n",
              "</style>\n",
              "<table border=\"1\" class=\"dataframe\">\n",
              "  <thead>\n",
              "    <tr style=\"text-align: right;\">\n",
              "      <th></th>\n",
              "      <th>MinTemp</th>\n",
              "      <th>MaxTemp</th>\n",
              "      <th>Rainfall</th>\n",
              "      <th>Evaporation</th>\n",
              "      <th>Sunshine</th>\n",
              "      <th>WindGustDir</th>\n",
              "      <th>WindGustSpeed</th>\n",
              "      <th>WindDir9am</th>\n",
              "      <th>WindDir3pm</th>\n",
              "      <th>WindSpeed9am</th>\n",
              "      <th>...</th>\n",
              "      <th>Humidity9am</th>\n",
              "      <th>Humidity3pm</th>\n",
              "      <th>Pressure9am</th>\n",
              "      <th>Pressure3pm</th>\n",
              "      <th>Cloud9am</th>\n",
              "      <th>Cloud3pm</th>\n",
              "      <th>Temp9am</th>\n",
              "      <th>Temp3pm</th>\n",
              "      <th>RainToday</th>\n",
              "      <th>RainTomorrow</th>\n",
              "    </tr>\n",
              "  </thead>\n",
              "  <tbody>\n",
              "    <tr>\n",
              "      <th>0</th>\n",
              "      <td>13.4</td>\n",
              "      <td>22.9</td>\n",
              "      <td>0.6</td>\n",
              "      <td>5.468232</td>\n",
              "      <td>7.611178</td>\n",
              "      <td>13</td>\n",
              "      <td>44.0</td>\n",
              "      <td>13</td>\n",
              "      <td>14</td>\n",
              "      <td>20.0</td>\n",
              "      <td>...</td>\n",
              "      <td>71.0</td>\n",
              "      <td>22.0</td>\n",
              "      <td>1007.7</td>\n",
              "      <td>1007.1</td>\n",
              "      <td>8.000000</td>\n",
              "      <td>4.50993</td>\n",
              "      <td>16.9</td>\n",
              "      <td>21.8</td>\n",
              "      <td>0</td>\n",
              "      <td>0</td>\n",
              "    </tr>\n",
              "    <tr>\n",
              "      <th>1</th>\n",
              "      <td>7.4</td>\n",
              "      <td>25.1</td>\n",
              "      <td>0.0</td>\n",
              "      <td>5.468232</td>\n",
              "      <td>7.611178</td>\n",
              "      <td>14</td>\n",
              "      <td>44.0</td>\n",
              "      <td>6</td>\n",
              "      <td>15</td>\n",
              "      <td>4.0</td>\n",
              "      <td>...</td>\n",
              "      <td>44.0</td>\n",
              "      <td>25.0</td>\n",
              "      <td>1010.6</td>\n",
              "      <td>1007.8</td>\n",
              "      <td>4.447461</td>\n",
              "      <td>4.50993</td>\n",
              "      <td>17.2</td>\n",
              "      <td>24.3</td>\n",
              "      <td>0</td>\n",
              "      <td>0</td>\n",
              "    </tr>\n",
              "    <tr>\n",
              "      <th>2</th>\n",
              "      <td>12.9</td>\n",
              "      <td>25.7</td>\n",
              "      <td>0.0</td>\n",
              "      <td>5.468232</td>\n",
              "      <td>7.611178</td>\n",
              "      <td>15</td>\n",
              "      <td>46.0</td>\n",
              "      <td>13</td>\n",
              "      <td>15</td>\n",
              "      <td>19.0</td>\n",
              "      <td>...</td>\n",
              "      <td>38.0</td>\n",
              "      <td>30.0</td>\n",
              "      <td>1007.6</td>\n",
              "      <td>1008.7</td>\n",
              "      <td>4.447461</td>\n",
              "      <td>2.00000</td>\n",
              "      <td>21.0</td>\n",
              "      <td>23.2</td>\n",
              "      <td>0</td>\n",
              "      <td>0</td>\n",
              "    </tr>\n",
              "    <tr>\n",
              "      <th>3</th>\n",
              "      <td>9.2</td>\n",
              "      <td>28.0</td>\n",
              "      <td>0.0</td>\n",
              "      <td>5.468232</td>\n",
              "      <td>7.611178</td>\n",
              "      <td>4</td>\n",
              "      <td>24.0</td>\n",
              "      <td>9</td>\n",
              "      <td>0</td>\n",
              "      <td>11.0</td>\n",
              "      <td>...</td>\n",
              "      <td>45.0</td>\n",
              "      <td>16.0</td>\n",
              "      <td>1017.6</td>\n",
              "      <td>1012.8</td>\n",
              "      <td>4.447461</td>\n",
              "      <td>4.50993</td>\n",
              "      <td>18.1</td>\n",
              "      <td>26.5</td>\n",
              "      <td>0</td>\n",
              "      <td>0</td>\n",
              "    </tr>\n",
              "    <tr>\n",
              "      <th>4</th>\n",
              "      <td>17.5</td>\n",
              "      <td>32.3</td>\n",
              "      <td>1.0</td>\n",
              "      <td>5.468232</td>\n",
              "      <td>7.611178</td>\n",
              "      <td>13</td>\n",
              "      <td>41.0</td>\n",
              "      <td>1</td>\n",
              "      <td>7</td>\n",
              "      <td>7.0</td>\n",
              "      <td>...</td>\n",
              "      <td>82.0</td>\n",
              "      <td>33.0</td>\n",
              "      <td>1010.8</td>\n",
              "      <td>1006.0</td>\n",
              "      <td>7.000000</td>\n",
              "      <td>8.00000</td>\n",
              "      <td>17.8</td>\n",
              "      <td>29.7</td>\n",
              "      <td>0</td>\n",
              "      <td>0</td>\n",
              "    </tr>\n",
              "  </tbody>\n",
              "</table>\n",
              "<p>5 rows × 21 columns</p>\n",
              "</div>"
            ],
            "text/plain": [
              "   MinTemp  MaxTemp  Rainfall  Evaporation  Sunshine  WindGustDir  \\\n",
              "0     13.4     22.9       0.6     5.468232  7.611178           13   \n",
              "1      7.4     25.1       0.0     5.468232  7.611178           14   \n",
              "2     12.9     25.7       0.0     5.468232  7.611178           15   \n",
              "3      9.2     28.0       0.0     5.468232  7.611178            4   \n",
              "4     17.5     32.3       1.0     5.468232  7.611178           13   \n",
              "\n",
              "   WindGustSpeed  WindDir9am  WindDir3pm  WindSpeed9am  ...  Humidity9am  \\\n",
              "0           44.0          13          14          20.0  ...         71.0   \n",
              "1           44.0           6          15           4.0  ...         44.0   \n",
              "2           46.0          13          15          19.0  ...         38.0   \n",
              "3           24.0           9           0          11.0  ...         45.0   \n",
              "4           41.0           1           7           7.0  ...         82.0   \n",
              "\n",
              "   Humidity3pm  Pressure9am  Pressure3pm  Cloud9am  Cloud3pm  Temp9am  \\\n",
              "0         22.0       1007.7       1007.1  8.000000   4.50993     16.9   \n",
              "1         25.0       1010.6       1007.8  4.447461   4.50993     17.2   \n",
              "2         30.0       1007.6       1008.7  4.447461   2.00000     21.0   \n",
              "3         16.0       1017.6       1012.8  4.447461   4.50993     18.1   \n",
              "4         33.0       1010.8       1006.0  7.000000   8.00000     17.8   \n",
              "\n",
              "   Temp3pm  RainToday  RainTomorrow  \n",
              "0     21.8          0             0  \n",
              "1     24.3          0             0  \n",
              "2     23.2          0             0  \n",
              "3     26.5          0             0  \n",
              "4     29.7          0             0  \n",
              "\n",
              "[5 rows x 21 columns]"
            ]
          },
          "execution_count": 44,
          "metadata": {},
          "output_type": "execute_result"
        }
      ],
      "source": [
        "# I.4.4 Transformasi data kategorikal menjadi numerikal (encoding)\n",
        "\n",
        "encoder = LabelEncoder()\n",
        "for col in df.columns:\n",
        "    if df[col].dtype == 'object':\n",
        "        df[col] = encoder.fit_transform(df[col])\n",
        "df.head()"
      ]
    },
    {
      "cell_type": "code",
      "execution_count": 45,
      "metadata": {
        "colab": {
          "base_uri": "https://localhost:8080/",
          "height": 299
        },
        "id": "BH_UEoW5Jp3d",
        "outputId": "e6ecbd0f-65dd-474e-f159-1e71823fd7e5"
      },
      "outputs": [
        {
          "data": {
            "text/html": [
              "<div>\n",
              "<style scoped>\n",
              "    .dataframe tbody tr th:only-of-type {\n",
              "        vertical-align: middle;\n",
              "    }\n",
              "\n",
              "    .dataframe tbody tr th {\n",
              "        vertical-align: top;\n",
              "    }\n",
              "\n",
              "    .dataframe thead th {\n",
              "        text-align: right;\n",
              "    }\n",
              "</style>\n",
              "<table border=\"1\" class=\"dataframe\">\n",
              "  <thead>\n",
              "    <tr style=\"text-align: right;\">\n",
              "      <th></th>\n",
              "      <th>MinTemp</th>\n",
              "      <th>MaxTemp</th>\n",
              "      <th>Rainfall</th>\n",
              "      <th>Evaporation</th>\n",
              "      <th>Sunshine</th>\n",
              "      <th>WindGustDir</th>\n",
              "      <th>WindGustSpeed</th>\n",
              "      <th>WindDir9am</th>\n",
              "      <th>WindDir3pm</th>\n",
              "      <th>WindSpeed9am</th>\n",
              "      <th>...</th>\n",
              "      <th>Humidity9am</th>\n",
              "      <th>Humidity3pm</th>\n",
              "      <th>Pressure9am</th>\n",
              "      <th>Pressure3pm</th>\n",
              "      <th>Cloud9am</th>\n",
              "      <th>Cloud3pm</th>\n",
              "      <th>Temp9am</th>\n",
              "      <th>Temp3pm</th>\n",
              "      <th>RainToday</th>\n",
              "      <th>RainTomorrow</th>\n",
              "    </tr>\n",
              "  </thead>\n",
              "  <tbody>\n",
              "    <tr>\n",
              "      <th>0</th>\n",
              "      <td>0.516509</td>\n",
              "      <td>0.523629</td>\n",
              "      <td>0.001617</td>\n",
              "      <td>0.037712</td>\n",
              "      <td>0.524909</td>\n",
              "      <td>0.866667</td>\n",
              "      <td>0.294574</td>\n",
              "      <td>0.866667</td>\n",
              "      <td>0.933333</td>\n",
              "      <td>0.153846</td>\n",
              "      <td>...</td>\n",
              "      <td>0.71</td>\n",
              "      <td>0.22</td>\n",
              "      <td>0.449587</td>\n",
              "      <td>0.4800</td>\n",
              "      <td>0.888889</td>\n",
              "      <td>0.501103</td>\n",
              "      <td>0.508439</td>\n",
              "      <td>0.522073</td>\n",
              "      <td>0.0</td>\n",
              "      <td>0.0</td>\n",
              "    </tr>\n",
              "    <tr>\n",
              "      <th>1</th>\n",
              "      <td>0.375000</td>\n",
              "      <td>0.565217</td>\n",
              "      <td>0.000000</td>\n",
              "      <td>0.037712</td>\n",
              "      <td>0.524909</td>\n",
              "      <td>0.933333</td>\n",
              "      <td>0.294574</td>\n",
              "      <td>0.400000</td>\n",
              "      <td>1.000000</td>\n",
              "      <td>0.030769</td>\n",
              "      <td>...</td>\n",
              "      <td>0.44</td>\n",
              "      <td>0.25</td>\n",
              "      <td>0.497521</td>\n",
              "      <td>0.4912</td>\n",
              "      <td>0.494162</td>\n",
              "      <td>0.501103</td>\n",
              "      <td>0.514768</td>\n",
              "      <td>0.570058</td>\n",
              "      <td>0.0</td>\n",
              "      <td>0.0</td>\n",
              "    </tr>\n",
              "    <tr>\n",
              "      <th>2</th>\n",
              "      <td>0.504717</td>\n",
              "      <td>0.576560</td>\n",
              "      <td>0.000000</td>\n",
              "      <td>0.037712</td>\n",
              "      <td>0.524909</td>\n",
              "      <td>1.000000</td>\n",
              "      <td>0.310078</td>\n",
              "      <td>0.866667</td>\n",
              "      <td>1.000000</td>\n",
              "      <td>0.146154</td>\n",
              "      <td>...</td>\n",
              "      <td>0.38</td>\n",
              "      <td>0.30</td>\n",
              "      <td>0.447934</td>\n",
              "      <td>0.5056</td>\n",
              "      <td>0.494162</td>\n",
              "      <td>0.222222</td>\n",
              "      <td>0.594937</td>\n",
              "      <td>0.548944</td>\n",
              "      <td>0.0</td>\n",
              "      <td>0.0</td>\n",
              "    </tr>\n",
              "    <tr>\n",
              "      <th>3</th>\n",
              "      <td>0.417453</td>\n",
              "      <td>0.620038</td>\n",
              "      <td>0.000000</td>\n",
              "      <td>0.037712</td>\n",
              "      <td>0.524909</td>\n",
              "      <td>0.266667</td>\n",
              "      <td>0.139535</td>\n",
              "      <td>0.600000</td>\n",
              "      <td>0.000000</td>\n",
              "      <td>0.084615</td>\n",
              "      <td>...</td>\n",
              "      <td>0.45</td>\n",
              "      <td>0.16</td>\n",
              "      <td>0.613223</td>\n",
              "      <td>0.5712</td>\n",
              "      <td>0.494162</td>\n",
              "      <td>0.501103</td>\n",
              "      <td>0.533755</td>\n",
              "      <td>0.612284</td>\n",
              "      <td>0.0</td>\n",
              "      <td>0.0</td>\n",
              "    </tr>\n",
              "    <tr>\n",
              "      <th>4</th>\n",
              "      <td>0.613208</td>\n",
              "      <td>0.701323</td>\n",
              "      <td>0.002695</td>\n",
              "      <td>0.037712</td>\n",
              "      <td>0.524909</td>\n",
              "      <td>0.866667</td>\n",
              "      <td>0.271318</td>\n",
              "      <td>0.066667</td>\n",
              "      <td>0.466667</td>\n",
              "      <td>0.053846</td>\n",
              "      <td>...</td>\n",
              "      <td>0.82</td>\n",
              "      <td>0.33</td>\n",
              "      <td>0.500826</td>\n",
              "      <td>0.4624</td>\n",
              "      <td>0.777778</td>\n",
              "      <td>0.888889</td>\n",
              "      <td>0.527426</td>\n",
              "      <td>0.673704</td>\n",
              "      <td>0.0</td>\n",
              "      <td>0.0</td>\n",
              "    </tr>\n",
              "  </tbody>\n",
              "</table>\n",
              "<p>5 rows × 21 columns</p>\n",
              "</div>"
            ],
            "text/plain": [
              "    MinTemp   MaxTemp  Rainfall  Evaporation  Sunshine  WindGustDir  \\\n",
              "0  0.516509  0.523629  0.001617     0.037712  0.524909     0.866667   \n",
              "1  0.375000  0.565217  0.000000     0.037712  0.524909     0.933333   \n",
              "2  0.504717  0.576560  0.000000     0.037712  0.524909     1.000000   \n",
              "3  0.417453  0.620038  0.000000     0.037712  0.524909     0.266667   \n",
              "4  0.613208  0.701323  0.002695     0.037712  0.524909     0.866667   \n",
              "\n",
              "   WindGustSpeed  WindDir9am  WindDir3pm  WindSpeed9am  ...  Humidity9am  \\\n",
              "0       0.294574    0.866667    0.933333      0.153846  ...         0.71   \n",
              "1       0.294574    0.400000    1.000000      0.030769  ...         0.44   \n",
              "2       0.310078    0.866667    1.000000      0.146154  ...         0.38   \n",
              "3       0.139535    0.600000    0.000000      0.084615  ...         0.45   \n",
              "4       0.271318    0.066667    0.466667      0.053846  ...         0.82   \n",
              "\n",
              "   Humidity3pm  Pressure9am  Pressure3pm  Cloud9am  Cloud3pm   Temp9am  \\\n",
              "0         0.22     0.449587       0.4800  0.888889  0.501103  0.508439   \n",
              "1         0.25     0.497521       0.4912  0.494162  0.501103  0.514768   \n",
              "2         0.30     0.447934       0.5056  0.494162  0.222222  0.594937   \n",
              "3         0.16     0.613223       0.5712  0.494162  0.501103  0.533755   \n",
              "4         0.33     0.500826       0.4624  0.777778  0.888889  0.527426   \n",
              "\n",
              "    Temp3pm  RainToday  RainTomorrow  \n",
              "0  0.522073        0.0           0.0  \n",
              "1  0.570058        0.0           0.0  \n",
              "2  0.548944        0.0           0.0  \n",
              "3  0.612284        0.0           0.0  \n",
              "4  0.673704        0.0           0.0  \n",
              "\n",
              "[5 rows x 21 columns]"
            ]
          },
          "execution_count": 45,
          "metadata": {},
          "output_type": "execute_result"
        }
      ],
      "source": [
        "# I.4.5 Scaling dengan metode MinMaxScaler\n",
        "\n",
        "scaler = MinMaxScaler()\n",
        "scaled_df = scaler.fit_transform(df)\n",
        "scaled_df = pd.DataFrame(scaled_df, columns = df.columns)\n",
        "scaled_df.head()"
      ]
    },
    {
      "cell_type": "markdown",
      "metadata": {
        "id": "mt2zHZRauLIm"
      },
      "source": [
        "# II. Desain Eksperimen\n",
        "Tujuan dari bagian ini adalah peserta dapat memahami cara melakukan eksperimen mencari metode terbaik dengan benar. Hal yang diliputi adalah sebagai berikut:\n",
        "1. Pembuatan model\n",
        "2. Proses validasi\n",
        "3. _Hyperparameter tuning_"
      ]
    },
    {
      "cell_type": "markdown",
      "metadata": {
        "id": "Kf4xsl8RydIt"
      },
      "source": [
        "## II.1\n",
        "Tentukanlah metrik yang akan digunakan pada eksperimen kali ini. Metrik yang dapat lebih dari satu jenis."
      ]
    },
    {
      "cell_type": "markdown",
      "metadata": {
        "id": "S2I0axfj4OuC"
      },
      "source": [
        "1. Accuracy\n",
        "2. Recall\n",
        "3. F1 Score\n",
        "4. Precisision"
      ]
    },
    {
      "cell_type": "markdown",
      "metadata": {
        "id": "FONT0OyUyoQG"
      },
      "source": [
        "## II.2 \n",
        "Bagi data dengan perbandingan 0,8 untuk data latih dan 0,2 untuk data validasi."
      ]
    },
    {
      "cell_type": "code",
      "execution_count": 46,
      "metadata": {
        "id": "Gqa9nn5muMS2"
      },
      "outputs": [],
      "source": [
        "# II.2 Kode di sini\n",
        "\n",
        "x = df[['MinTemp', 'MaxTemp', 'Rainfall', 'Evaporation', 'Sunshine', 'WindGustDir', 'WindGustSpeed', 'WindDir9am', 'WindDir3pm', 'WindSpeed9am', 'WindSpeed3pm', 'Humidity9am', 'Humidity3pm', 'Pressure9am', 'Pressure3pm', 'Cloud9am', 'Cloud3pm', 'Temp9am', 'Temp3pm', 'RainToday']]\n",
        "y = df['RainTomorrow']\n",
        "\n",
        "x_train, x_test, y_train, y_test = train_test_split(x, y, test_size = 0.2,  train_size=0.8, random_state = 42)"
      ]
    },
    {
      "cell_type": "markdown",
      "metadata": {
        "id": "V4yS8O3tyyyh"
      },
      "source": [
        "## II.3\n",
        "Lakukan hal berikut:\n",
        "1. Prediksi dengan menggunakan model _logistic regression_ sebagai _baseline_.\n",
        "2. Tampilkan evaluasi dari model yang dibangun dari metrik yang ditentukan pada II.1\n",
        "3. Tampilkan _confusion matrix_."
      ]
    },
    {
      "cell_type": "code",
      "execution_count": 47,
      "metadata": {
        "id": "EpEqAz94yyQo"
      },
      "outputs": [],
      "source": [
        "# II.3.1  Prediksi dengan menggunakan model logistic regression sebagai baseline\n",
        "\n",
        "lr = LogisticRegression()\n",
        "lr.fit(x_train, y_train)\n",
        "y_pred = lr.predict(x_test)"
      ]
    },
    {
      "cell_type": "code",
      "execution_count": 48,
      "metadata": {
        "colab": {
          "base_uri": "https://localhost:8080/"
        },
        "id": "My2-C_oIJp3p",
        "outputId": "97020584-483d-44bb-ddb0-83df2f9c2e9f"
      },
      "outputs": [
        {
          "name": "stdout",
          "output_type": "stream",
          "text": [
            "Evaluasi dari model logistic regression dengan metrics yang sudah ditentukan sebelumnya: \n",
            "              precision    recall  f1-score   support\n",
            "\n",
            "           0       0.86      0.95      0.90     22672\n",
            "           1       0.71      0.45      0.55      6420\n",
            "\n",
            "    accuracy                           0.84     29092\n",
            "   macro avg       0.79      0.70      0.73     29092\n",
            "weighted avg       0.83      0.84      0.82     29092\n",
            "\n",
            "Accuracy:  0.8387872954764196\n",
            "Precision:  0.7128444881889764\n",
            "Recall:  0.4512461059190031\n",
            "F1 Score:  0.552651659671881\n"
          ]
        }
      ],
      "source": [
        "# II.3.2  Evaluasi dari model logistic regression\n",
        "\n",
        "print(\"Evaluasi dari model logistic regression dengan metrics yang sudah ditentukan sebelumnya: \")\n",
        "print(classification_report(y_test, y_pred))\n",
        "print('Accuracy: ', accuracy_score(y_test, y_pred))\n",
        "print('Precision: ', precision_score(y_test, y_pred))\n",
        "print('Recall: ', recall_score(y_test, y_pred))\n",
        "print('F1 Score: ', f1_score(y_test, y_pred))"
      ]
    },
    {
      "cell_type": "code",
      "execution_count": 49,
      "metadata": {
        "colab": {
          "base_uri": "https://localhost:8080/"
        },
        "id": "Kwhl3hTsJp3s",
        "outputId": "8d3d8136-c7c7-45c3-ee6e-318df053e390"
      },
      "outputs": [
        {
          "name": "stdout",
          "output_type": "stream",
          "text": [
            "Confusion matrix dari model logistic regression: \n",
            "            Predicted No  Predicted Yes\n",
            "Actual No          21505           1167\n",
            "Actual Yes          3523           2897\n"
          ]
        }
      ],
      "source": [
        "# II.3.3  Confusion matrix dari model logistic regression\n",
        "\n",
        "print(\"Confusion matrix dari model logistic regression: \")\n",
        "print(pd.DataFrame(confusion_matrix(y_test, y_pred), columns = ['Predicted No', 'Predicted Yes'], index = ['Actual No', 'Actual Yes']))"
      ]
    },
    {
      "cell_type": "markdown",
      "metadata": {
        "id": "aFB2AlZfzU54"
      },
      "source": [
        "## II.4 \n",
        "Lakukanlah:\n",
        "1. Pembelajaran dengan model lain\n",
        "2. _Hyperparameter tuning_ untuk model yang dipakai dengan menggunakan _grid search_ (perhatikan _random factor_ pada beberapa algoritma model)\n",
        "3. Validasi dengan _cross validation_\n"
      ]
    },
    {
      "cell_type": "code",
      "execution_count": 50,
      "metadata": {
        "colab": {
          "base_uri": "https://localhost:8080/"
        },
        "id": "aRueSs2MJp3u",
        "outputId": "0664e853-9d41-4dc9-d420-26f2cd6972e2"
      },
      "outputs": [
        {
          "data": {
            "text/plain": [
              "0"
            ]
          },
          "execution_count": 50,
          "metadata": {},
          "output_type": "execute_result"
        }
      ],
      "source": [
        "# Target yang kosong\n",
        "df['RainTomorrow'].isna().sum()"
      ]
    },
    {
      "cell_type": "code",
      "execution_count": 51,
      "metadata": {
        "colab": {
          "base_uri": "https://localhost:8080/"
        },
        "id": "df0YVJ7dzUSc",
        "outputId": "9682cbb3-5e28-44dc-808c-0026408d9208"
      },
      "outputs": [
        {
          "name": "stdout",
          "output_type": "stream",
          "text": [
            "Grid Search for metric accuracy\n",
            "Best hyperparameters: {'criterion': 'entropy', 'max_depth': 5}\n",
            "Best score: 0.8353430496356387\n",
            "Grid Search for metric precision\n",
            "Best hyperparameters: {'criterion': 'gini', 'max_depth': 5}\n",
            "Best score: 0.725360780509838\n",
            "Grid Search for metric recall\n",
            "Best hyperparameters: {'criterion': 'gini', 'max_depth': 20}\n",
            "Best score: 0.5037810957758261\n",
            "Grid Search for metric f1\n",
            "Best hyperparameters: {'criterion': 'entropy', 'max_depth': 10}\n",
            "Best score: 0.5470329876467206\n"
          ]
        }
      ],
      "source": [
        "# II.4 Kode di sini.\n",
        "from sklearn.compose import ColumnTransformer\n",
        "from sklearn.impute import SimpleImputer\n",
        "from sklearn.preprocessing import OneHotEncoder\n",
        "from sklearn.tree import DecisionTreeClassifier\n",
        "from sklearn.model_selection import train_test_split\n",
        "from sklearn.metrics import accuracy_score\n",
        "from sklearn.pipeline import Pipeline\n",
        "from sklearn.model_selection import GridSearchCV\n",
        "from sklearn.metrics import make_scorer\n",
        "import pandas as pd\n",
        "\n",
        "# Ada yang kosong di Target, jadi di Drop aja\n",
        "df_dropped = df.dropna(subset=['RainTomorrow'])\n",
        "X = df_dropped.drop(['RainTomorrow'], axis=1)\n",
        "y = df_dropped['RainTomorrow']\n",
        "\n",
        "# Tanganin yang kosong dengan masukin mode\n",
        "# Terus di onehot encode\n",
        "categorical_features = [col for col in X.columns if X[col].dtype == \"object\"]\n",
        "categorical_transformer = Pipeline(steps=[\n",
        "    ('imputer', SimpleImputer(strategy='most_frequent')),\n",
        "    ('onehot', OneHotEncoder(handle_unknown='ignore'))\n",
        "])\n",
        "\n",
        "# Tanganin yang kosong dengan masukin mean\n",
        "numeric_features = [col for col in X.columns if X[col].dtype != \"object\"]\n",
        "numeric_transformer = SimpleImputer(strategy='mean')\n",
        "\n",
        "preprocessor = ColumnTransformer(\n",
        "    transformers=[\n",
        "        ('cat', categorical_transformer, categorical_features),\n",
        "        ('num', numeric_transformer, numeric_features)\n",
        "    ]\n",
        ")\n",
        "\n",
        "# Create an instance of the DecisionTreeClassifier class with the preprocessor\n",
        "dt = DecisionTreeClassifier(random_state=42)\n",
        "\n",
        "dt_params = {\n",
        "    'max_depth': [5, 10, 15, 20],\n",
        "    'criterion': ['gini', 'entropy', 'log_loss']\n",
        "}\n",
        "\n",
        "# Fit the preprocessor on the training data and transform the training and testing data\n",
        "X_preprocessed = preprocessor.fit_transform(X)\n",
        "\n",
        "scorers = ['accuracy', 'precision', 'recall', 'f1']\n",
        "\n",
        "for scorer in scorers:\n",
        "  grid_search = GridSearchCV(dt, param_grid=dt_params, cv=5, scoring=scorer, n_jobs=-1)\n",
        "  grid_search.fit(X_preprocessed, y)\n",
        "  print(f\"Grid Search for metric {scorer}\")\n",
        "  print(\"Best hyperparameters:\", grid_search.best_params_)\n",
        "  print(\"Best score:\", grid_search.best_score_)"
      ]
    },
    {
      "cell_type": "markdown",
      "metadata": {
        "id": "5ePIGuRZuNZb"
      },
      "source": [
        "# III. Improvement\n",
        "Pada bagian ini, kalian diharapkan dapat:\n",
        "1. melakukan pelatihan dengan data hasil _oversampling_ / _undersampling_, disertai dengan validasi yang benar; serta\n",
        "2. menerapkan beberapa metode untuk menggabungkan beberapa model.\n",
        "\n",
        "Kedua hal ini adalah contoh metode untuk meningkatkan kinerja dari model."
      ]
    },
    {
      "cell_type": "markdown",
      "metadata": {
        "id": "NGgjXVqf1vhN"
      },
      "source": [
        "## III.1\n",
        "Lakukanlah:\n",
        "1. _Oversampling_ pada kelas minoritas pada data latih\n",
        "2. _Undersampling_ pada kelas mayoritas pada data latih\n",
        "\n",
        "Pada setiap tahap, latih dengan model *baseline* (II.3), dan validasi dengan data validasi. Data latih dan validasi adalah data yang disusun pada bagian II.2."
      ]
    },
    {
      "cell_type": "code",
      "execution_count": 52,
      "metadata": {
        "colab": {
          "base_uri": "https://localhost:8080/"
        },
        "id": "bLLLsyoF2GIM",
        "outputId": "505de58b-c860-4ccb-c1ad-a9766d7a0ca8"
      },
      "outputs": [
        {
          "name": "stdout",
          "output_type": "stream",
          "text": [
            "Evaluasi dari baseline model dengan oversampling: \n",
            "              precision    recall  f1-score   support\n",
            "\n",
            "           0       0.92      0.79      0.85     22672\n",
            "           1       0.51      0.75      0.60      6420\n",
            "\n",
            "    accuracy                           0.78     29092\n",
            "   macro avg       0.71      0.77      0.73     29092\n",
            "weighted avg       0.83      0.78      0.80     29092\n",
            "\n",
            "Accuracy:  0.7826206517255603\n",
            "Precision:  0.5050135784416127\n",
            "Recall:  0.7531152647975078\n",
            "F1 Score:  0.6046017256471177\n",
            "Cross validation score:  [0.84368824 0.83651285 0.83857523 0.83929876 0.83916985]\n"
          ]
        }
      ],
      "source": [
        "# III.1.1 Oversampling pada kelas minoritas pada data latih\n",
        "\n",
        "over_sampler = RandomOverSampler(sampling_strategy=\"not majority\", random_state = 42)\n",
        "over_x_train, over_y_train = over_sampler.fit_resample(x_train, y_train)\n",
        "\n",
        "lr.fit(over_x_train, over_y_train)\n",
        "over_y_pred = lr.predict(x_test)\n",
        "\n",
        "print(\"Evaluasi dari baseline model dengan oversampling: \")\n",
        "print(classification_report(y_test, over_y_pred))\n",
        "print('Accuracy: ', accuracy_score(y_test, over_y_pred))\n",
        "print('Precision: ', precision_score(y_test, over_y_pred))\n",
        "print('Recall: ', recall_score(y_test, over_y_pred))\n",
        "print('F1 Score: ', f1_score(y_test, over_y_pred))\n",
        "\n",
        "crossval_score = cross_val_score(lr, x_train, y_train.values.ravel(), cv=5)\n",
        "print(\"Cross validation score: \", crossval_score)"
      ]
    },
    {
      "cell_type": "code",
      "execution_count": 53,
      "metadata": {
        "colab": {
          "base_uri": "https://localhost:8080/"
        },
        "id": "teTn8YNqJp3y",
        "outputId": "f5869a2d-846c-49a6-87ac-62ad7bb4add8"
      },
      "outputs": [
        {
          "name": "stdout",
          "output_type": "stream",
          "text": [
            "Evaluasi dari baseline model dengan undersampling: \n",
            "              precision    recall  f1-score   support\n",
            "\n",
            "           0       0.92      0.79      0.85     22672\n",
            "           1       0.50      0.76      0.60      6420\n",
            "\n",
            "    accuracy                           0.78     29092\n",
            "   macro avg       0.71      0.77      0.72     29092\n",
            "weighted avg       0.83      0.78      0.79     29092\n",
            "\n",
            "Accuracy:  0.7792520280489482\n",
            "Precision:  0.4998969497114592\n",
            "Recall:  0.755607476635514\n",
            "F1 Score:  0.601711734061027\n",
            "Cross validation score:  [0.84368824 0.83651285 0.83857523 0.83929876 0.83916985]\n"
          ]
        }
      ],
      "source": [
        "# III.1.2 Undersampling pada kelas mayoritas pada data latih\n",
        "\n",
        "under_sampler = RandomUnderSampler(sampling_strategy=1, random_state = 42)\n",
        "under_x_train, under_y_train = under_sampler.fit_resample(x_train, y_train)\n",
        "\n",
        "lr.fit(under_x_train, under_y_train)\n",
        "under_y_pred = lr.predict(x_test)\n",
        "\n",
        "print(\"Evaluasi dari baseline model dengan undersampling: \")\n",
        "print(classification_report(y_test, under_y_pred))\n",
        "print('Accuracy: ', accuracy_score(y_test, under_y_pred))\n",
        "print('Precision: ', precision_score(y_test, under_y_pred))\n",
        "print('Recall: ', recall_score(y_test, under_y_pred))\n",
        "print('F1 Score: ', f1_score(y_test, under_y_pred))\n",
        "\n",
        "crossval_score = cross_val_score(lr, x_train, y_train.values.ravel(), cv=5)\n",
        "print(\"Cross validation score: \", crossval_score)"
      ]
    },
    {
      "cell_type": "markdown",
      "metadata": {
        "id": "FtbGHN3P2Fxe"
      },
      "source": [
        "## III.2\n",
        "Lakukanlah:\n",
        "1. Eksplorasi _soft voting_, _hard voting_, dan _stacking_.\n",
        "2. Buatlah model _logistic regression_ dan SVM.\n",
        "3. Lakukanlah _soft voting_ dari model-model yang dibangun pada poin 2.\n",
        "4. Lakukan _hard voting_ dari model-model yang dibangun pada poin 2.\n",
        "5. Lakukanlah _stacking_ dengan _final classifier_ adalah _logistic regression_ dari model-model yang dibangun pada poin 2.\n",
        "6. Lakukan validasi dengan metrics yang telah ditentukan untuk poin 3, 4, dan 5."
      ]
    },
    {
      "cell_type": "markdown",
      "metadata": {
        "id": "NfGqy72SAZ-t"
      },
      "source": [
        "(Tuliskan hasil eksplorasi III.2 poin 1 di sini.)"
      ]
    },
    {
      "cell_type": "code",
      "execution_count": 54,
      "metadata": {
        "colab": {
          "base_uri": "https://localhost:8080/"
        },
        "id": "zdchguBQtErx",
        "outputId": "bf4471bd-c7b1-4e35-b01e-b5ffdfb6716a"
      },
      "outputs": [
        {
          "name": "stdout",
          "output_type": "stream",
          "text": [
            "Hasil Soft Voting\n",
            "              precision    recall  f1-score   support\n",
            "\n",
            "           0       0.82      0.99      0.89     22672\n",
            "           1       0.85      0.21      0.34      6420\n",
            "\n",
            "    accuracy                           0.82     29092\n",
            "   macro avg       0.83      0.60      0.62     29092\n",
            "weighted avg       0.82      0.82      0.77     29092\n",
            "\n",
            "Precision: 0.85375\n",
            "Recall   : 0.21277258566978194\n",
            "F1-score : 0.34064837905236905\n",
            "Accuracy : 0.8182318163068885\n",
            "Cross validation score: [0.83543869 0.82443929 0.82413852 0.82297082 0.83809565]\n",
            "Hasil Hard Voting\n",
            "              precision    recall  f1-score   support\n",
            "\n",
            "           0       0.82      0.99      0.89     22672\n",
            "           1       0.85      0.21      0.34      6420\n",
            "\n",
            "    accuracy                           0.82     29092\n",
            "   macro avg       0.83      0.60      0.62     29092\n",
            "weighted avg       0.82      0.82      0.77     29092\n",
            "\n",
            "Precision: 0.85375\n",
            "Recall   : 0.21277258566978194\n",
            "F1-score : 0.34064837905236905\n",
            "Accuracy : 0.8182318163068885\n",
            "Cross validation score: [0.8436023  0.83646988 0.8386182  0.83929876 0.83899798]\n",
            "Hasil Stacking\n",
            "              precision    recall  f1-score   support\n",
            "\n",
            "           0       0.86      0.95      0.90     22672\n",
            "           1       0.71      0.45      0.55      6420\n",
            "\n",
            "    accuracy                           0.84     29092\n",
            "   macro avg       0.79      0.70      0.73     29092\n",
            "weighted avg       0.83      0.84      0.82     29092\n",
            "\n",
            "Precision: 0.7146766169154228\n",
            "Recall   : 0.44750778816199377\n",
            "F1-score : 0.5503831417624521\n",
            "Accuracy : 0.8386498006324763\n",
            "Cross validation score: [0.8434734  0.83586835 0.83883303 0.83990031 0.83916985]\n"
          ]
        }
      ],
      "source": [
        "# III.2 Kode di sini.\n",
        "from sklearn.svm import SVC\n",
        "from sklearn.preprocessing import StandardScaler\n",
        "from sklearn.ensemble import VotingClassifier, StackingClassifier\n",
        "\n",
        "lr = LogisticRegression(random_state=42)\n",
        "# SVC kelamaan, jadinya max_iter dikurangi\n",
        "svm = SVC(random_state=42, max_iter=100, probability=True)\n",
        "\n",
        "soft_vote_clf = VotingClassifier(estimators=[('lr', lr), ('svm', svm)], voting='soft')\n",
        "soft_vote_clf.fit(x_train, y_train)\n",
        "softvote_prediction = soft_vote_clf.predict(x_test)\n",
        "\n",
        "print(\"Hasil Soft Voting\")\n",
        "print(classification_report(y_test, softvote_prediction))\n",
        "print(f\"Precision: {precision_score(y_test, softvote_prediction)}\")\n",
        "print(f\"Recall   : {recall_score(y_test, softvote_prediction)}\")\n",
        "print(f\"F1-score : {f1_score(y_test, softvote_prediction)}\")\n",
        "print(f\"Accuracy : {accuracy_score(y_test, softvote_prediction)}\")\n",
        "\n",
        "crossval_score = cross_val_score(soft_vote_clf, x_train, y_train.values.ravel(), cv=5)\n",
        "print(f\"Cross validation score: {crossval_score}\")\n",
        "\n",
        "hard_vote_clf = VotingClassifier(estimators=[('lr', lr), ('svm', svm)], voting='hard')\n",
        "hard_vote_clf.fit(x_train, y_train)\n",
        "hardvote_prediction = soft_vote_clf.predict(x_test)\n",
        "\n",
        "print(\"Hasil Hard Voting\")\n",
        "print(classification_report(y_test, hardvote_prediction))\n",
        "print(f\"Precision: {precision_score(y_test, hardvote_prediction)}\")\n",
        "print(f\"Recall   : {recall_score(y_test, hardvote_prediction)}\")\n",
        "print(f\"F1-score : {f1_score(y_test, hardvote_prediction)}\")\n",
        "print(f\"Accuracy : {accuracy_score(y_test, hardvote_prediction)}\")\n",
        "\n",
        "crossval_score = cross_val_score(hard_vote_clf, x_train, y_train.values.ravel(), cv=5)\n",
        "print(f\"Cross validation score: {crossval_score}\")\n",
        "\n",
        "stacking_clf = StackingClassifier(estimators=[('lr', lr), ('svm', svm)], final_estimator=LogisticRegression())\n",
        "stacking_clf.fit(x_train, y_train)\n",
        "stacking_prediction = stacking_clf.predict(x_test)\n",
        "\n",
        "print(\"Hasil Stacking\")\n",
        "print(classification_report(y_test, stacking_prediction))\n",
        "print(f\"Precision: {precision_score(y_test, stacking_prediction)}\")\n",
        "print(f\"Recall   : {recall_score(y_test, stacking_prediction)}\")\n",
        "print(f\"F1-score : {f1_score(y_test, stacking_prediction)}\")\n",
        "print(f\"Accuracy : {accuracy_score(y_test, stacking_prediction)}\")\n",
        "\n",
        "crossval_score = cross_val_score(stacking_clf, x_train, y_train.values.ravel(), cv=5)\n",
        "print(f\"Cross validation score: {crossval_score}\")"
      ]
    },
    {
      "attachments": {},
      "cell_type": "markdown",
      "metadata": {
        "id": "unmFXb-73OMD"
      },
      "source": [
        "# IV. Analisis\n",
        "Bandingkan hasil dari hal-hal berikut:\n",
        "\n",
        "1. Model _baseline_ (II.3)\n",
        "2. Model lain (II.4)\n",
        "3. Hasil _undersampling_\n",
        "4. Hasil _oversampling_\n",
        "5. Hasil _soft voting_\n",
        "6. Hasil _hard voting_\n",
        "7. Hasil _stacking_"
      ]
    },
    {
      "attachments": {},
      "cell_type": "markdown",
      "metadata": {
        "id": "e9x0VH2AAkwZ"
      },
      "source": [
        "### Model Baseline vs Model lain\n",
        "\n",
        "- Model baseline\n",
        "    - Precision Score : 0.7128444881889764\n",
        "    - Recall Score : 0.4512461059190031\n",
        "    - F1 Score : 0.552651659671881\n",
        "    - Accuracy Score : 0.8387872954764196\n",
        "\n",
        "- Model lain\n",
        "    - Decision Tree Learning\n",
        "        - Precision Score : 0.725360780509838\n",
        "        - Recall Score : 0.5037810957758261\n",
        "        - F1 Score : 0.5470329876467206\n",
        "        - Accuracy Score : 0.8353430496356387\n",
        "\n",
        "Pembelajaran dataset dengan menggunakan model Decision Tree Learning yang sudah di-tune hyperparameternya menghasilkan nilai precision dan recall yang lebih baik, tetapi untuk nilai f1 dan accuracy model logistic regression memberikan nilai yang lebih tinggi daripada\n",
        "model Decistion Tree Learning. Oleh karena itu, model Decision Tree Learning yang sudah di-tune hyperparameternya lebih baik jika dibandingkan dengan logistic regression. \n",
        "\n",
        "### Oversampling vs Undersampling\n",
        "\n",
        "- Oversampling\n",
        "    - Precision Score : 0.5050135784416127\n",
        "    - Recall Score : 0.7531152647975078\n",
        "    - F1 Score : 0.6046017256471177\n",
        "    - Accuracy Score : 0.7826206517255603\n",
        "\n",
        "- Undersampling\n",
        "    - Precision Score : 0.4998969497114592\n",
        "    - Recall Score : 0.755607476635514\n",
        "    - F1 Score : 0.601711734061027\n",
        "    - Accuracy Score : 0.7792520280489482\n",
        "\n",
        "Pembelajaran dataset dengan menggunakan strategi improvement Oversampling menghasilkan nilai precision dan f1 yang lebih tinggi, tetapi untuk nilai recall dan accuracy strategi improvement Undersampling menghasilkan nilai yang lebih tinggi. Namun, secara keseluruhan baik strategi Oversampling dan Undersampling menghasilkan nilai yang kurang lebih sama.\n",
        "\n",
        "### Soft Voting vs Hard Voting vs Stacking\n",
        "\n",
        "- Soft Voting\n",
        "    - Precision Score : 0.85375\n",
        "    - Recall Score : 0.21277258566978194\n",
        "    - F1 Score : 0.34064837905236905\n",
        "    - Accuracy Score : 0.8182318163068885\n",
        "\n",
        "- Hard Voting\n",
        "    - Precision Score : 0.8540100250626567\n",
        "    - Recall Score : 0.21230529595015576\n",
        "    - F1 Score : 0.34006986027944114\n",
        "    - Accuracy Score : 0.8181630688849169\n",
        "\n",
        "- Stacking\n",
        "    - Precision Score : 0.7144638403990025\n",
        "    - Recall Score : 0.4462616822429907\n",
        "    - F1 Score : 0.5493767976989454\n",
        "    - Accuracy Score : 0.8384435583665613\n",
        "\n"
      ]
    }
  ],
  "metadata": {
    "colab": {
      "provenance": []
    },
    "kernelspec": {
      "display_name": "Python 3 (ipykernel)",
      "language": "python",
      "name": "python3"
    },
    "language_info": {
      "codemirror_mode": {
        "name": "ipython",
        "version": 3
      },
      "file_extension": ".py",
      "mimetype": "text/x-python",
      "name": "python",
      "nbconvert_exporter": "python",
      "pygments_lexer": "ipython3",
      "version": "3.10.4"
    }
  },
  "nbformat": 4,
  "nbformat_minor": 0
}
